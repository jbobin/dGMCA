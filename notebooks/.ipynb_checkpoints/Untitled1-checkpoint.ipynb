{
 "cells": [
  {
   "cell_type": "markdown",
   "metadata": {},
   "source": [
    "# DGMCA: Performances for different sample sizes"
   ]
  },
  {
   "cell_type": "code",
   "execution_count": 2,
   "metadata": {},
   "outputs": [],
   "source": [
    "import sys\n",
    "sys.path.append(\"../\")\n",
    "sys.path.append(\"../src\")\n",
    "import numpy as np\n",
    "import matplotlib.pyplot as plt\n",
    "import matplotlib\n",
    "from utils_dgmca import divisorGenerator\n",
    "from utils_dgmca import Make_Experiment_GG\n",
    "from misc_dgmca import *\n",
    "import copy as cp\n",
    "import time\n",
    "import scipy.io as sio\n",
    "import DGMCA_omp as dgo\n",
    "#import DGMCA as dg\n",
    "from imp import reload\n",
    "import time\n",
    "import scipy.io as sio"
   ]
  },
  {
   "cell_type": "markdown",
   "metadata": {},
   "source": [
    "### Sample size: 21000"
   ]
  },
  {
   "cell_type": "code",
   "execution_count": 75,
   "metadata": {},
   "outputs": [
    {
     "name": "stdout",
     "output_type": "stream",
     "text": [
      "Running batchsize =  1000\n",
      "Saving\n",
      "Done\n"
     ]
    }
   ],
   "source": [
    "# rho = 0.1; n = 5; m = 5; cd = 1\n",
    "\n",
    "fname = 'EXP_TotSize_21000_rho01_cd1_n5m5_BatchSizeEvolution.mat'\n",
    "\n"
   ]
  },
  {
   "cell_type": "code",
   "execution_count": 78,
   "metadata": {},
   "outputs": [
    {
     "data": {
      "text/plain": [
       "<matplotlib.legend.Legend at 0x11964f470>"
      ]
     },
     "execution_count": 78,
     "metadata": {},
     "output_type": "execute_result"
    },
    {
     "data": {
      "image/png": "[encoded data removed]",
      "text/plain": [
       "<Figure size 1080x720 with 1 Axes>"
      ]
     },
     "metadata": {
      "needs_background": "light"
     },
     "output_type": "display_data"
    }
   ],
   "source": [
    "fsize = 16\n",
    "vcol = ['mediumseagreen','crimson','steelblue','darkmagenta','burlywood','khaki','lightblue','darkseagreen','deepskyblue','forestgreen','gold','indianred','midnightblue','olive','orangered','orchid','red','steelblue']\n",
    "font = {'family' : 'normal',\n",
    "            'weight' : 'bold',\n",
    "            'size'   : fsize}\n",
    "plt.rc('font', **font)\n",
    "plt.rcParams[\"figure.figsize\"] = (15,10)\n",
    "\n",
    "\n",
    "plt.hist(np.log10(Oca[-1]),10,color=vcol[0],alpha=0.3,density=True)\n",
    "plt.hist(np.log10(Ocaw[-1]),10,color=vcol[1],alpha=0.3,density=True)\n",
    "plt.hist(np.log10(Ocar[-1]),10,color=vcol[2],alpha=0.3,density=True)\n",
    "plt.axvline(x=np.log10(Ocam[-1]),color=vcol[0],lw=8,alpha=0.75,linestyle=':')\n",
    "plt.axvline(x=np.log10(Ocamw[-1]),color=vcol[1],lw=8,alpha=0.75,linestyle=':')\n",
    "plt.axvline(x=np.log10(Ocamr[-1]),color=vcol[2],lw=8,alpha=0.75,linestyle=':')\n",
    "plt.xlabel(\"CA\")\n",
    "\n",
    "plt.legend(['FM','wFM','rFM'])"
   ]
  },
  {
   "cell_type": "markdown",
   "metadata": {},
   "source": [
    "### Evolution as a function of the Batch size - TotSize 21000"
   ]
  },
  {
   "cell_type": "code",
   "execution_count": null,
   "metadata": {},
   "outputs": [],
   "source": [
    "n_s = 5 # Number of sources\n",
    "n_obs = 5 # Number of observations\n",
    "rho = 0.1 # Generalized Gaussian generation parameter\n",
    "BlockSize =  n_s\n",
    "nmax = 100\n",
    "kend = 1.\n",
    "totalSize = 21000\n",
    "v_BS=np.array([2,5,7,10,15,25,50,100,250,500,1000,3000])\n",
    "\n",
    "critA_omp = []\n",
    "critA = []\n",
    "Time_omp = []\n",
    "Time = []\n",
    "\n",
    "X,X0,A0,S0,N = Make_Experiment_GG(n_s=n_s,n_obs=n_obs,t_samp=totalSize,noise_level=40.0,dynamic=1,CondNumber=1,alpha=rho)\n",
    "\n",
    "Ainit = np.random.randn(n_obs,n_s)\n",
    "Ainit = Ainit/np.maximum(0,np.linalg.norm(Ainit,axis=0))\n",
    "\n",
    "Psad_e = []\n",
    "Psad_ew = []\n",
    "Psad_fm = []\n",
    "Psad_fmw = []\n",
    "Psad_rfm = []\n",
    "\n",
    "Pca_e = []\n",
    "Pca_ew = []\n",
    "Pca_fm = []\n",
    "Pca_fmw = []\n",
    "Pca_rfm = []\n",
    "\n",
    "# We might need to run different MC\n",
    "\n",
    "for BS in v_BS:\n",
    "\n",
    "    print(\"Running batchsize = \",BS)\n",
    "\n",
    "    out_omp,FMw,th,Oca,Osad,Ocam,Osadm = dgo.Core_DGMCA(X=X,n=n_s,A=Ainit,kend=kend,q_f=0.1,AggMeth='FM',Equal=True,nmax=nmax,BlockSize = BlockSize,L0=1,verb=0,Kmax=0.5,tol=1e-6, subBlockSize=BS, SCOpt=1,alphaEstOpt=1,alpha_exp=2.,A0=A0)\n",
    "    out_ompw,FMww,thw,Ocaw,Osadw,Ocamw,Osadmw = dgo.Core_DGMCA(X=X,n=n_s,A=Ainit,kend=kend,q_f=0.1,AggMeth='FM',Equal=False,nmax=nmax,BlockSize = BlockSize,L0=1,verb=0,Kmax=0.5,tol=1e-6, subBlockSize=BS, SCOpt=1,alphaEstOpt=1,alpha_exp=2.,A0=A0)\n",
    "    out_omp,FM,th,Ocar,Osadr,Ocamr,Osadmr = dgo.Core_DGMCA(X=X,n=n_s,A=Ainit,kend=kend,q_f=0.1,AggMeth='rFM',Equal=True,nmax=nmax,BlockSize = BlockSize,L0=1,verb=0,Kmax=0.5,tol=1e-6, subBlockSize=BS, SCOpt=1,alphaEstOpt=1,alpha_exp=2.,A0=A0)\n",
    "    out_omp,FM,th,Ocae,Osade,Ocame,Osadme = dgo.Core_DGMCA(X=X,n=n_s,A=Ainit,kend=kend,q_f=0.1,AggMeth='Euclidean',Equal=True,nmax=nmax,BlockSize = BlockSize,L0=1,verb=0,Kmax=0.5,tol=1e-6, subBlockSize=BS, SCOpt=1,alphaEstOpt=1,alpha_exp=2.,A0=A0)\n",
    "    out_omp,FM,th,Ocae,Osadew,Ocamew,Osadmew = dgo.Core_DGMCA(X=X,n=n_s,A=Ainit,kend=kend,q_f=0.1,AggMeth='Euclidean',Equal=False,nmax=nmax,BlockSize = BlockSize,L0=1,verb=0,Kmax=0.5,tol=1e-6, subBlockSize=BS, SCOpt=1,alphaEstOpt=1,alpha_exp=2.,A0=A0)\n",
    "    \n",
    "    Psad_e.append(Osadme)\n",
    "    Psad_ew.append(Osadmew)\n",
    "    Psad_fm.append(Osadm)\n",
    "    Psad_fmw.append(Osadmw)\n",
    "    Psad_rfm.append(Osadmr)\n",
    "\n",
    "    Pca_e.append(Ocame)\n",
    "    Pca_ew.append(Ocamew)\n",
    "    Pca_fm.append(Ocam)\n",
    "    Pca_fmw.append(Ocamw)\n",
    "    Pca_rfm.append(Ocamr)\n",
    "    \n",
    "    print(\"Saving\")\n",
    "    \n",
    "    com = \"EXP_TotSize_\"+str(totalSize)+\"_rho01_cd1_n5m5_BatchSizeEvolution.mat\"\n",
    "    mdict={\"v_BS\":v_BS,\"SAD_FM\":Psad_fm,\"CA_FM\":Pca_fm,\"SAD_FMw\":Psad_fmw,\"CA_FMw\":Pca_fmw,\"SAD_E\":Psad_e,\"CA_E\":Pca_e,\"SAD_Ew\":Psad_ew,\"CA_Ew\":Pca_ew,\"SAD_rFM\":Psad_rfm,\"CA_rFM\":Pca_rfm}\n",
    "    sio.savemat(com,mdict=mdict)\n",
    "\n",
    "print(\"Done\")"
   ]
  },
  {
   "cell_type": "code",
   "execution_count": null,
   "metadata": {},
   "outputs": [],
   "source": [
    "n_s = 5 # Number of sources\n",
    "n_obs = 5 # Number of observations\n",
    "rho = 0.3 # Generalized Gaussian generation parameter\n",
    "BlockSize =  n_s\n",
    "nmax = 100\n",
    "kend = 1.\n",
    "totalSize = 21000\n",
    "v_BS=np.array([2,5,7,10,15,25,50,100,250,500,1000,3000])\n",
    "\n",
    "critA_omp = []\n",
    "critA = []\n",
    "Time_omp = []\n",
    "Time = []\n",
    "\n",
    "X,X0,A0,S0,N = Make_Experiment_GG(n_s=n_s,n_obs=n_obs,t_samp=totalSize,noise_level=40.0,dynamic=1,CondNumber=1,alpha=rho)\n",
    "\n",
    "Ainit = np.random.randn(n_obs,n_s)\n",
    "Ainit = Ainit/np.maximum(0,np.linalg.norm(Ainit,axis=0))\n",
    "\n",
    "Psad_e = []\n",
    "Psad_ew = []\n",
    "Psad_fm = []\n",
    "Psad_fmw = []\n",
    "Psad_rfm = []\n",
    "\n",
    "Pca_e = []\n",
    "Pca_ew = []\n",
    "Pca_fm = []\n",
    "Pca_fmw = []\n",
    "Pca_rfm = []\n",
    "\n",
    "# We might need to run different MC\n",
    "\n",
    "for BS in v_BS:\n",
    "\n",
    "    print(\"Running batchsize = \",BS)\n",
    "\n",
    "    out_omp,FMw,th,Oca,Osad,Ocam,Osadm = dgo.Core_DGMCA(X=X,n=n_s,A=Ainit,kend=kend,q_f=0.1,AggMeth='FM',Equal=True,nmax=nmax,BlockSize = BlockSize,L0=1,verb=0,Kmax=0.5,tol=1e-6, subBlockSize=BS, SCOpt=1,alphaEstOpt=1,alpha_exp=2.,A0=A0)\n",
    "    out_ompw,FMww,thw,Ocaw,Osadw,Ocamw,Osadmw = dgo.Core_DGMCA(X=X,n=n_s,A=Ainit,kend=kend,q_f=0.1,AggMeth='FM',Equal=False,nmax=nmax,BlockSize = BlockSize,L0=1,verb=0,Kmax=0.5,tol=1e-6, subBlockSize=BS, SCOpt=1,alphaEstOpt=1,alpha_exp=2.,A0=A0)\n",
    "    out_omp,FM,th,Ocar,Osadr,Ocamr,Osadmr = dgo.Core_DGMCA(X=X,n=n_s,A=Ainit,kend=kend,q_f=0.1,AggMeth='rFM',Equal=True,nmax=nmax,BlockSize = BlockSize,L0=1,verb=0,Kmax=0.5,tol=1e-6, subBlockSize=BS, SCOpt=1,alphaEstOpt=1,alpha_exp=2.,A0=A0)\n",
    "    out_omp,FM,th,Ocae,Osade,Ocame,Osadme = dgo.Core_DGMCA(X=X,n=n_s,A=Ainit,kend=kend,q_f=0.1,AggMeth='Euclidean',Equal=True,nmax=nmax,BlockSize = BlockSize,L0=1,verb=0,Kmax=0.5,tol=1e-6, subBlockSize=BS, SCOpt=1,alphaEstOpt=1,alpha_exp=2.,A0=A0)\n",
    "    out_omp,FM,th,Ocae,Osadew,Ocamew,Osadmew = dgo.Core_DGMCA(X=X,n=n_s,A=Ainit,kend=kend,q_f=0.1,AggMeth='Euclidean',Equal=False,nmax=nmax,BlockSize = BlockSize,L0=1,verb=0,Kmax=0.5,tol=1e-6, subBlockSize=BS, SCOpt=1,alphaEstOpt=1,alpha_exp=2.,A0=A0)\n",
    "    \n",
    "    Psad_e.append(Osadme)\n",
    "    Psad_ew.append(Osadmew)\n",
    "    Psad_fm.append(Osadm)\n",
    "    Psad_fmw.append(Osadmw)\n",
    "    Psad_rfm.append(Osadmr)\n",
    "\n",
    "    Pca_e.append(Ocame)\n",
    "    Pca_ew.append(Ocamew)\n",
    "    Pca_fm.append(Ocam)\n",
    "    Pca_fmw.append(Ocamw)\n",
    "    Pca_rfm.append(Ocamr)\n",
    "    \n",
    "    print(\"Saving\")\n",
    "    \n",
    "    com = \"EXP_TotSize_\"+str(totalSize)+\"_rho03_cd1_n5m5_BatchSizeEvolution.mat\"\n",
    "    mdict={\"v_BS\":v_BS,\"SAD_FM\":Psad_fm,\"CA_FM\":Pca_fm,\"SAD_FMw\":Psad_fmw,\"CA_FMw\":Pca_fmw,\"SAD_E\":Psad_e,\"CA_E\":Pca_e,\"SAD_Ew\":Psad_ew,\"CA_Ew\":Pca_ew,\"SAD_rFM\":Psad_rfm,\"CA_rFM\":Pca_rfm}\n",
    "    sio.savemat(com,mdict=mdict)\n",
    "\n",
    "print(\"Done\")"
   ]
  },
  {
   "cell_type": "code",
   "execution_count": null,
   "metadata": {},
   "outputs": [],
   "source": [
    "n_s = 5 # Number of sources\n",
    "n_obs = 5 # Number of observations\n",
    "rho = 0.5 # Generalized Gaussian generation parameter\n",
    "BlockSize =  n_s\n",
    "nmax = 100\n",
    "kend = 1.\n",
    "totalSize = 21000\n",
    "v_BS=np.array([2,5,7,10,15,25,50,100,250,500,1000,3000])\n",
    "\n",
    "critA_omp = []\n",
    "critA = []\n",
    "Time_omp = []\n",
    "Time = []\n",
    "\n",
    "X,X0,A0,S0,N = Make_Experiment_GG(n_s=n_s,n_obs=n_obs,t_samp=totalSize,noise_level=40.0,dynamic=1,CondNumber=1,alpha=rho)\n",
    "\n",
    "Ainit = np.random.randn(n_obs,n_s)\n",
    "Ainit = Ainit/np.maximum(0,np.linalg.norm(Ainit,axis=0))\n",
    "\n",
    "Psad_e = []\n",
    "Psad_ew = []\n",
    "Psad_fm = []\n",
    "Psad_fmw = []\n",
    "Psad_rfm = []\n",
    "\n",
    "Pca_e = []\n",
    "Pca_ew = []\n",
    "Pca_fm = []\n",
    "Pca_fmw = []\n",
    "Pca_rfm = []\n",
    "\n",
    "# We might need to run different MC\n",
    "\n",
    "for BS in v_BS:\n",
    "\n",
    "    print(\"Running batchsize = \",BS)\n",
    "\n",
    "    out_omp,FMw,th,Oca,Osad,Ocam,Osadm = dgo.Core_DGMCA(X=X,n=n_s,A=Ainit,kend=kend,q_f=0.1,AggMeth='FM',Equal=True,nmax=nmax,BlockSize = BlockSize,L0=1,verb=0,Kmax=0.5,tol=1e-6, subBlockSize=BS, SCOpt=1,alphaEstOpt=1,alpha_exp=2.,A0=A0)\n",
    "    out_ompw,FMww,thw,Ocaw,Osadw,Ocamw,Osadmw = dgo.Core_DGMCA(X=X,n=n_s,A=Ainit,kend=kend,q_f=0.1,AggMeth='FM',Equal=False,nmax=nmax,BlockSize = BlockSize,L0=1,verb=0,Kmax=0.5,tol=1e-6, subBlockSize=BS, SCOpt=1,alphaEstOpt=1,alpha_exp=2.,A0=A0)\n",
    "    out_omp,FM,th,Ocar,Osadr,Ocamr,Osadmr = dgo.Core_DGMCA(X=X,n=n_s,A=Ainit,kend=kend,q_f=0.1,AggMeth='rFM',Equal=True,nmax=nmax,BlockSize = BlockSize,L0=1,verb=0,Kmax=0.5,tol=1e-6, subBlockSize=BS, SCOpt=1,alphaEstOpt=1,alpha_exp=2.,A0=A0)\n",
    "    out_omp,FM,th,Ocae,Osade,Ocame,Osadme = dgo.Core_DGMCA(X=X,n=n_s,A=Ainit,kend=kend,q_f=0.1,AggMeth='Euclidean',Equal=True,nmax=nmax,BlockSize = BlockSize,L0=1,verb=0,Kmax=0.5,tol=1e-6, subBlockSize=BS, SCOpt=1,alphaEstOpt=1,alpha_exp=2.,A0=A0)\n",
    "    out_omp,FM,th,Ocae,Osadew,Ocamew,Osadmew = dgo.Core_DGMCA(X=X,n=n_s,A=Ainit,kend=kend,q_f=0.1,AggMeth='Euclidean',Equal=False,nmax=nmax,BlockSize = BlockSize,L0=1,verb=0,Kmax=0.5,tol=1e-6, subBlockSize=BS, SCOpt=1,alphaEstOpt=1,alpha_exp=2.,A0=A0)\n",
    "    \n",
    "    Psad_e.append(Osadme)\n",
    "    Psad_ew.append(Osadmew)\n",
    "    Psad_fm.append(Osadm)\n",
    "    Psad_fmw.append(Osadmw)\n",
    "    Psad_rfm.append(Osadmr)\n",
    "\n",
    "    Pca_e.append(Ocame)\n",
    "    Pca_ew.append(Ocamew)\n",
    "    Pca_fm.append(Ocam)\n",
    "    Pca_fmw.append(Ocamw)\n",
    "    Pca_rfm.append(Ocamr)\n",
    "    \n",
    "    print(\"Saving\")\n",
    "    \n",
    "    com = \"EXP_TotSize_\"+str(totalSize)+\"_rho05_cd1_n5m5_BatchSizeEvolution.mat\"\n",
    "    mdict={\"v_BS\":v_BS,\"SAD_FM\":Psad_fm,\"CA_FM\":Pca_fm,\"SAD_FMw\":Psad_fmw,\"CA_FMw\":Pca_fmw,\"SAD_E\":Psad_e,\"CA_E\":Pca_e,\"SAD_Ew\":Psad_ew,\"CA_Ew\":Pca_ew,\"SAD_rFM\":Psad_rfm,\"CA_rFM\":Pca_rfm}\n",
    "    sio.savemat(com,mdict=mdict)\n",
    "\n",
    "print(\"Done\")"
   ]
  }
 ],
 "metadata": {
  "kernelspec": {
   "display_name": "Python 3",
   "language": "python",
   "name": "python3"
  },
  "language_info": {
   "codemirror_mode": {
    "name": "ipython",
    "version": 3
   },
   "file_extension": ".py",
   "mimetype": "text/x-python",
   "name": "python",
   "nbconvert_exporter": "python",
   "pygments_lexer": "ipython3",
   "version": "3.6.6"
  }
 },
 "nbformat": 4,
 "nbformat_minor": 2
}
