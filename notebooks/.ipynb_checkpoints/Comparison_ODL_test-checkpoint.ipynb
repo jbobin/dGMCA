{
 "cells": [
  {
   "cell_type": "code",
   "execution_count": 2,
   "metadata": {},
   "outputs": [],
   "source": [
    "import sys\n",
    "sys.path.append(\"../src/\")\n",
    "import numpy as np\n",
    "import matplotlib.pyplot as plt\n",
    "import matplotlib\n",
    "from utils_dgmca import divisorGenerator\n",
    "from utils_dgmca import Make_Experiment_GG\n",
    "from misc_dgmca import *\n",
    "import copy as cp\n",
    "#from tqdm import tqdm\n",
    "import DGMCA_omp as dgo\n",
    "import time\n",
    "import scipy.io as sio\n",
    "from sklearn.decomposition import MiniBatchDictionaryLearning\n",
    "import spams"
   ]
  },
  {
   "cell_type": "code",
   "execution_count": 56,
   "metadata": {},
   "outputs": [
    {
     "name": "stdout",
     "output_type": "stream",
     "text": [
      "time of computation for Dictionary Learning: 0.837632\n"
     ]
    }
   ],
   "source": [
    "X,X0,A0,S0,N = Make_Experiment_GG(n_s=5,n_obs=20,t_samp=10000,noise_level=40.0,dynamic=1,CondNumber=1,alpha=0.1)\n",
    "\n",
    "param = { 'K' : 5, # learns a dictionary with 100 elements\n",
    "          'lambda1' : 0.1, 'numThreads' : -1, 'batchsize' : 1000,\n",
    "          'iter' : 1000}\n",
    "\n",
    "tic = time.time()\n",
    "\n",
    "D = spams.trainDL(X.T,mode=2,**param)\n",
    "tac = time.time()\n",
    "t = tac - tic\n",
    "print('time of computation for Dictionary Learning: %f' %t)\n"
   ]
  },
  {
   "cell_type": "code",
   "execution_count": 57,
   "metadata": {},
   "outputs": [
    {
     "name": "stdout",
     "output_type": "stream",
     "text": [
      "0.260675223095904\n"
     ]
    }
   ],
   "source": [
    "A_odl = X@D@np.linalg.inv(D.T@D)\n",
    "print(EvalCriterion_eval(A0,S0,A_odl,S0)['ca_mean'])"
   ]
  },
  {
   "cell_type": "code",
   "execution_count": 75,
   "metadata": {},
   "outputs": [
    {
     "name": "stderr",
     "output_type": "stream",
     "text": [
      "/usr/local/lib/python3.7/site-packages/sklearn/linear_model/coordinate_descent.py:492: ConvergenceWarning: Objective did not converge. You might want to increase the number of iterations. Fitting data with very small alpha may cause precision problems.\n",
      "  ConvergenceWarning)\n",
      "/usr/local/lib/python3.7/site-packages/sklearn/linear_model/coordinate_descent.py:492: ConvergenceWarning: Objective did not converge. You might want to increase the number of iterations. Fitting data with very small alpha may cause precision problems.\n",
      "  ConvergenceWarning)\n",
      "/usr/local/lib/python3.7/site-packages/sklearn/linear_model/coordinate_descent.py:492: ConvergenceWarning: Objective did not converge. You might want to increase the number of iterations. Fitting data with very small alpha may cause precision problems.\n",
      "  ConvergenceWarning)\n",
      "/usr/local/lib/python3.7/site-packages/sklearn/linear_model/coordinate_descent.py:492: ConvergenceWarning: Objective did not converge. You might want to increase the number of iterations. Fitting data with very small alpha may cause precision problems.\n",
      "  ConvergenceWarning)\n"
     ]
    }
   ],
   "source": [
    "# Fitting alpha\n",
    "from time import time\n",
    "\n",
    "n_s = 5\n",
    "n_obs = 20\n",
    "\n",
    "X,X0,A0,S0,N = Make_Experiment_GG(n_s=n_s,n_obs=n_obs,t_samp=10000,noise_level=40.0,dynamic=1,CondNumber=5,alpha=0.05)\n",
    "\n",
    "c = []\n",
    "ti = []\n",
    "\n",
    "BS = np.array([10,25,50,100,250])\n",
    "A_init = np.random.randn(n_obs,n_s)\n",
    "\n",
    "for bs in BS:\n",
    "    \n",
    "    t0 = time()\n",
    "    dico = MiniBatchDictionaryLearning(n_components=5, alpha=0.01, n_iter=10000,batch_size=bs,fit_algorithm='cd',dict_init=A_init.T)\n",
    "    V = dico.fit(X.T).components_\n",
    "    dt = time() - t0\n",
    "    ti.append(dt)\n",
    "    A_odl = V.T\n",
    "    c.append(EvalCriterion_eval(A0,S0,A_odl,S0)['ca_mean'])\n"
   ]
  },
  {
   "cell_type": "code",
   "execution_count": 76,
   "metadata": {},
   "outputs": [
    {
     "data": {
      "text/plain": [
       "[<matplotlib.lines.Line2D at 0x125efd438>]"
      ]
     },
     "execution_count": 76,
     "metadata": {},
     "output_type": "execute_result"
    },
    {
     "data": {
      "image/png": "[encoded data removed]",
      "text/plain": [
       "<Figure size 432x288 with 1 Axes>"
      ]
     },
     "metadata": {
      "needs_background": "light"
     },
     "output_type": "display_data"
    }
   ],
   "source": [
    "plt.loglog(BS,c)"
   ]
  },
  {
   "cell_type": "code",
   "execution_count": null,
   "metadata": {},
   "outputs": [],
   "source": []
  }
 ],
 "metadata": {
  "kernelspec": {
   "display_name": "Python 3",
   "language": "python",
   "name": "python3"
  },
  "language_info": {
   "codemirror_mode": {
    "name": "ipython",
    "version": 3
   },
   "file_extension": ".py",
   "mimetype": "text/x-python",
   "name": "python",
   "nbconvert_exporter": "python",
   "pygments_lexer": "ipython3",
   "version": "3.7.2"
  }
 },
 "nbformat": 4,
 "nbformat_minor": 2
}
