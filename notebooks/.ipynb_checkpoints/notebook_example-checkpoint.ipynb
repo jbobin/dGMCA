{
 "cells": [
  {
   "cell_type": "code",
   "execution_count": 1,
   "metadata": {},
   "outputs": [],
   "source": [
    "\"\"\"\n",
    "distributed GMCA - python/C++ version\n",
    "\"\"\"\n",
    "\n",
    "import sys\n",
    "sys.path.append(\"../codes/\")\n",
    "import numpy as np\n",
    "import matplotlib.pyplot as plt\n",
    "import matplotlib\n",
    "from utils_dgmca import divisorGenerator\n",
    "from utils_dgmca import Make_Experiment_GG\n",
    "from misc_dgmca import *\n",
    "import DGMCA_omp as dgo\n",
    "import copy as cp\n",
    "import time\n",
    "import scipy.io as sio\n",
    "\n",
    "fsize = 16\n",
    "vcol = ['mediumseagreen','crimson','steelblue','darkmagenta','burlywood','khaki','lightblue','darkseagreen','deepskyblue','forestgreen','gold','indianred','midnightblue','olive','orangered','orchid','red','steelblue']\n",
    "font = {'family' : 'normal',\n",
    "            'weight' : 'bold',\n",
    "            'size'   : fsize}\n",
    "plt.rc('font', **font)\n",
    "plt.rcParams[\"figure.figsize\"] = (15,10)\n"
   ]
  },
  {
   "cell_type": "markdown",
   "metadata": {},
   "source": [
    "## Let's generate some data"
   ]
  },
  {
   "cell_type": "code",
   "execution_count": 2,
   "metadata": {},
   "outputs": [],
   "source": [
    "totalSize = 10000 # nb of samples per source\n",
    "n_s = 2 # Number of sources\n",
    "n_obs = 5 # Number of observations\n",
    "rho = 0.1 # Generalized Gaussian generation parameter\n",
    "nmax = 500 # max number of iterations\n",
    "kend = 1. # thresholding parameter\n",
    "\n",
    "X,X0,A0,S0,N = Make_Experiment_GG(n_s=n_s,n_obs=n_obs,t_samp=totalSize,noise_level=40.0,dynamic=1,CondNumber=1,alpha=rho)"
   ]
  },
  {
   "cell_type": "markdown",
   "metadata": {},
   "source": [
    "## Let's run the dGMCA code"
   ]
  },
  {
   "cell_type": "code",
   "execution_count": null,
   "metadata": {},
   "outputs": [],
   "source": [
    "AggMeth = 'rFM' # estimator aggregation method - Frechet mean is 'FM', robust Frechet Mean is 'rFM'\n",
    "Ainit = np.random.randn(n_obs,n_s)\n",
    "Ainit = Ainit/np.maximum(0,np.linalg.norm(Ainit,axis=0))\n",
    "\n",
    "# A0 is given here to follow the evolution of the performances along the iterative process\n",
    "\n",
    "BS = 25 # batch size\n",
    "out_omp25,FMw1000,th25,Oca25,Osad25,Ocam25,Osadm25 = dgo.Core_DGMCA(X=X,n=n_s,A=Ainit,kend=kend,q_f=0.1,AggMeth='rFM',nmax=nmax,BlockSize = n_s,L0=1,verb=0,Kmax=0.5,tol=1e-12, subBlockSize=BS,alphaEstOpt=1,alpha_exp=2.,A0=A0)"
   ]
  },
  {
   "cell_type": "code",
   "execution_count": null,
   "metadata": {},
   "outputs": [],
   "source": [
    "plt.loglog(Ocam25,'o')\n",
    "plt.ylabel(\"Mixing matrix criterion in log scale\")\n",
    "plt.xlabel(\"Iterations\")\n",
    "plt.title('Evolution of the mean mixing matrix criterion')"
   ]
  },
  {
   "cell_type": "code",
   "execution_count": null,
   "metadata": {},
   "outputs": [],
   "source": [
    "niter = -1\n",
    "bins = np.linspace(-5, -0.5, 40)\n",
    "out = plt.hist(np.log10(Oca25[niter]),bins,alpha=0.3,color=vcol[0])\n",
    "plt.xlabel(\"Mixing matrix criterion in log scale\")\n",
    "plt.title('Histogram of the mixing matrix criterion for all batches at the last iteration')"
   ]
  },
  {
   "cell_type": "code",
   "execution_count": null,
   "metadata": {},
   "outputs": [],
   "source": [
    "### More to come soon ..."
   ]
  },
  {
   "cell_type": "code",
   "execution_count": null,
   "metadata": {},
   "outputs": [],
   "source": []
  }
 ],
 "metadata": {
  "kernelspec": {
   "display_name": "Python 3",
   "language": "python",
   "name": "python3"
  },
  "language_info": {
   "codemirror_mode": {
    "name": "ipython",
    "version": 3
   },
   "file_extension": ".py",
   "mimetype": "text/x-python",
   "name": "python",
   "nbconvert_exporter": "python",
   "pygments_lexer": "ipython3",
   "version": "3.7.5"
  }
 },
 "nbformat": 4,
 "nbformat_minor": 4
}
