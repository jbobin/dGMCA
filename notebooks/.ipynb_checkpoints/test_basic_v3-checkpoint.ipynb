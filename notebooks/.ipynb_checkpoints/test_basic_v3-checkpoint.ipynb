{
 "cells": [
  {
   "cell_type": "markdown",
   "metadata": {
    "extensions": {
     "jupyter_dashboards": {
      "version": 1,
      "views": {
       "grid_default": {},
       "report_default": {}
      }
     }
    }
   },
   "source": [
    "# Test basic\n",
    "(python 2 notebook)\n",
    "\n",
    "Using the DGMCA code with different batch sizes and comparing its performance with the original GMCA.\n",
    "\n",
    "- The data used for the simulation is generated following a Generalized Gaussian model of parameter *rho*. \n",
    "- Results are stored in *data_path*\n",
    "- Plots are saved in *plots_path*"
   ]
  },
  {
   "cell_type": "code",
   "execution_count": 1,
   "metadata": {
    "extensions": {
     "jupyter_dashboards": {
      "version": 1,
      "views": {
       "grid_default": {},
       "report_default": {}
      }
     }
    }
   },
   "outputs": [],
   "source": [
    "import sys\n",
    "sys.path.append('../src/')\n",
    "import numpy as np\n",
    "import matplotlib.pyplot as plt\n",
    "import matplotlib\n",
    "from utils_dgmca import divisorGenerator\n",
    "from utils_dgmca import Make_Experiment_GG\n",
    "from misc_dgmca import *\n",
    "from DGMCA import DGMCA as dgmca\n",
    "from DGMCA_omp import *\n",
    "from GMCA import Core_GMCA as gmca\n",
    "import copy as cp\n",
    "from tqdm import tqdm\n",
    "import time\n",
    "import scipy.io as sio"
   ]
  },
  {
   "cell_type": "markdown",
   "metadata": {
    "extensions": {
     "jupyter_dashboards": {
      "version": 1,
      "views": {
       "grid_default": {},
       "report_default": {}
      }
     }
    }
   },
   "source": [
    "## Distributed code"
   ]
  },
  {
   "cell_type": "code",
   "execution_count": 7,
   "metadata": {
    "extensions": {
     "jupyter_dashboards": {
      "version": 1,
      "views": {
       "grid_default": {},
       "report_default": {}
      }
     }
    }
   },
   "outputs": [
    {
     "ename": "ValueError",
     "evalue": "shapes (10,10) and (5,5) not aligned: 10 (dim 1) != 5 (dim 0)",
     "output_type": "error",
     "traceback": [
      "\u001b[0;31m---------------------------------------------------------------------------\u001b[0m",
      "\u001b[0;31mValueError\u001b[0m                                Traceback (most recent call last)",
      "\u001b[0;32m<ipython-input-7-ea2e8121fa02>\u001b[0m in \u001b[0;36m<module>\u001b[0;34m\u001b[0m\n\u001b[1;32m     18\u001b[0m \u001b[0mkend\u001b[0m \u001b[0;34m=\u001b[0m \u001b[0;36m1.\u001b[0m\u001b[0;34m\u001b[0m\u001b[0;34m\u001b[0m\u001b[0m\n\u001b[1;32m     19\u001b[0m \u001b[0;34m\u001b[0m\u001b[0m\n\u001b[0;32m---> 20\u001b[0;31m \u001b[0mX\u001b[0m\u001b[0;34m,\u001b[0m\u001b[0mX0\u001b[0m\u001b[0;34m,\u001b[0m\u001b[0mA0\u001b[0m\u001b[0;34m,\u001b[0m\u001b[0mS0\u001b[0m\u001b[0;34m,\u001b[0m\u001b[0mN\u001b[0m \u001b[0;34m=\u001b[0m \u001b[0mMake_Experiment_GG\u001b[0m\u001b[0;34m(\u001b[0m\u001b[0mn_s\u001b[0m\u001b[0;34m=\u001b[0m\u001b[0mn_s\u001b[0m\u001b[0;34m,\u001b[0m\u001b[0mn_obs\u001b[0m\u001b[0;34m=\u001b[0m\u001b[0mn_obs\u001b[0m\u001b[0;34m,\u001b[0m\u001b[0mt_samp\u001b[0m\u001b[0;34m=\u001b[0m\u001b[0mtotalSize\u001b[0m\u001b[0;34m,\u001b[0m\u001b[0mnoise_level\u001b[0m\u001b[0;34m=\u001b[0m\u001b[0;36m40.0\u001b[0m\u001b[0;34m,\u001b[0m\u001b[0mdynamic\u001b[0m\u001b[0;34m=\u001b[0m\u001b[0;36m1\u001b[0m\u001b[0;34m,\u001b[0m\u001b[0mCondNumber\u001b[0m\u001b[0;34m=\u001b[0m\u001b[0;36m2\u001b[0m\u001b[0;34m,\u001b[0m\u001b[0malpha\u001b[0m\u001b[0;34m=\u001b[0m\u001b[0mrho\u001b[0m\u001b[0;34m)\u001b[0m\u001b[0;34m\u001b[0m\u001b[0;34m\u001b[0m\u001b[0m\n\u001b[0m\u001b[1;32m     21\u001b[0m \u001b[0;34m\u001b[0m\u001b[0m\n\u001b[1;32m     22\u001b[0m \u001b[0mAinit\u001b[0m \u001b[0;34m=\u001b[0m \u001b[0mnp\u001b[0m\u001b[0;34m.\u001b[0m\u001b[0mrandom\u001b[0m\u001b[0;34m.\u001b[0m\u001b[0mrandn\u001b[0m\u001b[0;34m(\u001b[0m\u001b[0mn_obs\u001b[0m\u001b[0;34m,\u001b[0m\u001b[0mn_s\u001b[0m\u001b[0;34m)\u001b[0m\u001b[0;34m\u001b[0m\u001b[0;34m\u001b[0m\u001b[0m\n",
      "\u001b[0;32m~/Documents/Python/LENA_DEVL/Toolbox/BSS/DGMCA_291118/src/utils_dgmca.py\u001b[0m in \u001b[0;36mMake_Experiment_GG\u001b[0;34m(n_s, n_obs, t_samp, noise_level, dynamic, CondNumber, alpha)\u001b[0m\n\u001b[1;32m    211\u001b[0m             \u001b[0mUq\u001b[0m\u001b[0;34m,\u001b[0m\u001b[0mSq\u001b[0m\u001b[0;34m,\u001b[0m\u001b[0mVq\u001b[0m \u001b[0;34m=\u001b[0m \u001b[0mnp\u001b[0m\u001b[0;34m.\u001b[0m\u001b[0mlinalg\u001b[0m\u001b[0;34m.\u001b[0m\u001b[0msvd\u001b[0m\u001b[0;34m(\u001b[0m\u001b[0mA0\u001b[0m\u001b[0;34m)\u001b[0m\u001b[0;34m\u001b[0m\u001b[0;34m\u001b[0m\u001b[0m\n\u001b[1;32m    212\u001b[0m             \u001b[0mSq\u001b[0m \u001b[0;34m=\u001b[0m \u001b[0;36m1.\u001b[0m\u001b[0;34m/\u001b[0m\u001b[0mnp\u001b[0m\u001b[0;34m.\u001b[0m\u001b[0mlinspace\u001b[0m\u001b[0;34m(\u001b[0m\u001b[0;36m1\u001b[0m\u001b[0;34m,\u001b[0m\u001b[0mCondNumber\u001b[0m\u001b[0;34m,\u001b[0m\u001b[0mn_s\u001b[0m\u001b[0;34m)\u001b[0m\u001b[0;34m\u001b[0m\u001b[0;34m\u001b[0m\u001b[0m\n\u001b[0;32m--> 213\u001b[0;31m             \u001b[0mA0\u001b[0m \u001b[0;34m=\u001b[0m \u001b[0mnp\u001b[0m\u001b[0;34m.\u001b[0m\u001b[0mdot\u001b[0m\u001b[0;34m(\u001b[0m\u001b[0mUq\u001b[0m\u001b[0;34m,\u001b[0m\u001b[0mnp\u001b[0m\u001b[0;34m.\u001b[0m\u001b[0mdot\u001b[0m\u001b[0;34m(\u001b[0m\u001b[0mnp\u001b[0m\u001b[0;34m.\u001b[0m\u001b[0mdiag\u001b[0m\u001b[0;34m(\u001b[0m\u001b[0mSq\u001b[0m\u001b[0;34m)\u001b[0m\u001b[0;34m,\u001b[0m\u001b[0mVq\u001b[0m\u001b[0;34m.\u001b[0m\u001b[0mT\u001b[0m\u001b[0;34m)\u001b[0m\u001b[0;34m)\u001b[0m\u001b[0;34m\u001b[0m\u001b[0;34m\u001b[0m\u001b[0m\n\u001b[0m\u001b[1;32m    214\u001b[0m             \u001b[0mA0\u001b[0m \u001b[0;34m=\u001b[0m \u001b[0mnp\u001b[0m\u001b[0;34m.\u001b[0m\u001b[0mdot\u001b[0m\u001b[0;34m(\u001b[0m\u001b[0mA0\u001b[0m\u001b[0;34m,\u001b[0m\u001b[0mnp\u001b[0m\u001b[0;34m.\u001b[0m\u001b[0mdiag\u001b[0m\u001b[0;34m(\u001b[0m\u001b[0;36m1.\u001b[0m\u001b[0;34m/\u001b[0m\u001b[0mnp\u001b[0m\u001b[0;34m.\u001b[0m\u001b[0msqrt\u001b[0m\u001b[0;34m(\u001b[0m\u001b[0mnp\u001b[0m\u001b[0;34m.\u001b[0m\u001b[0msum\u001b[0m\u001b[0;34m(\u001b[0m\u001b[0mA0\u001b[0m\u001b[0;34m*\u001b[0m\u001b[0mA0\u001b[0m\u001b[0;34m,\u001b[0m\u001b[0maxis\u001b[0m\u001b[0;34m=\u001b[0m\u001b[0;36m0\u001b[0m\u001b[0;34m)\u001b[0m\u001b[0;34m)\u001b[0m\u001b[0;34m)\u001b[0m\u001b[0;34m)\u001b[0m\u001b[0;34m\u001b[0m\u001b[0;34m\u001b[0m\u001b[0m\n\u001b[1;32m    215\u001b[0m \u001b[0;34m\u001b[0m\u001b[0m\n",
      "\u001b[0;31mValueError\u001b[0m: shapes (10,10) and (5,5) not aligned: 10 (dim 1) != 5 (dim 0)"
     ]
    }
   ],
   "source": [
    "import DGMCA_omp as dgo\n",
    "import DGMCA as dg\n",
    "from imp import reload\n",
    "import time\n",
    "reload(dgo)\n",
    "\n",
    "critA_omp = []\n",
    "critA = []\n",
    "Time_omp = []\n",
    "Time = []\n",
    "\n",
    "totalSize = 100000\n",
    "n_s = 5 # Number of sources\n",
    "n_obs = 5 # Number of observations\n",
    "rho = 0.1 # Generalized Gaussian generation parameter\n",
    "BlockSize =  n_s\n",
    "nmax = 100\n",
    "kend = 1.\n",
    "\n",
    "X,X0,A0,S0,N = Make_Experiment_GG(n_s=n_s,n_obs=n_obs,t_samp=totalSize,noise_level=40.0,dynamic=1,CondNumber=2,alpha=rho)\n",
    "\n",
    "Ainit = np.random.randn(n_obs,n_s)\n",
    "Ainit = Ainit/np.maximum(0,np.linalg.norm(Ainit,axis=0))\n",
    "\n",
    "\n",
    "BS = 1000\n",
    "out_omp1000,FMw1000,th1000,Oca1000,Osad1000,Ocam1000,Osadm1000 = dgo.Core_DGMCA(X=X,n=n_s,A=Ainit,kend=kend,q_f=0.1,AggMeth='FM',Equal=True,nmax=100,BlockSize = BlockSize,L0=1,verb=0,Kmax=0.5,tol=1e-6, subBlockSize=BS, SCOpt=1,alphaEstOpt=1,alpha_exp=2.,A0=A0)\n",
    "BS = 100\n",
    "out_omp100,FMw100,th1000,Oca100,Osad100,Ocam100,Osadm100 = dgo.Core_DGMCA(X=X,n=n_s,A=Ainit,kend=kend,q_f=0.1,AggMeth='FM',Equal=True,nmax=100,BlockSize = BlockSize,L0=1,verb=0,Kmax=0.5,tol=1e-6, subBlockSize=BS, SCOpt=1,alphaEstOpt=1,alpha_exp=2.,A0=A0)\n",
    "BS = 10\n",
    "out_omp10,FMw10,th10,Oca10,Osad10,Ocam10,Osadm10 = dgo.Core_DGMCA(X=X,n=n_s,A=Ainit,kend=kend,q_f=0.1,AggMeth='FM',Equal=True,nmax=100,BlockSize = BlockSize,L0=1,verb=0,Kmax=0.5,tol=1e-6, subBlockSize=BS, SCOpt=1,alphaEstOpt=1,alpha_exp=2.,A0=A0)\n",
    "BS = 1000\n",
    "out_omp1000,FMw1000,th1000,rOca1000,rOsad1000,rOcam1000,rOsadm1000 = dgo.Core_DGMCA(X=X,n=n_s,A=Ainit,kend=kend,q_f=0.1,AggMeth='rFM',Equal=True,nmax=100,BlockSize = BlockSize,L0=1,verb=0,Kmax=0.5,tol=1e-6, subBlockSize=BS, SCOpt=1,alphaEstOpt=1,alpha_exp=2.,A0=A0)\n",
    "BS = 100\n",
    "out_omp100,FMw100,th1000,rOca100,rOsad100,rOcam100,rOsadm100 = dgo.Core_DGMCA(X=X,n=n_s,A=Ainit,kend=kend,q_f=0.1,AggMeth='rFM',Equal=True,nmax=100,BlockSize = BlockSize,L0=1,verb=0,Kmax=0.5,tol=1e-6, subBlockSize=BS, SCOpt=1,alphaEstOpt=1,alpha_exp=2.,A0=A0)\n",
    "BS = 10\n",
    "out_omp10,FMw10,th10,rOca10,rOsad10,rOcam10,rOsadm10 = dgo.Core_DGMCA(X=X,n=n_s,A=Ainit,kend=kend,q_f=0.1,AggMeth='rFM',Equal=True,nmax=100,BlockSize = BlockSize,L0=1,verb=0,Kmax=0.5,tol=1e-6, subBlockSize=BS, SCOpt=1,alphaEstOpt=1,alpha_exp=2.,A0=A0)\n",
    "print(\"DONE\")"
   ]
  },
  {
   "cell_type": "code",
   "execution_count": 4,
   "metadata": {
    "extensions": {
     "jupyter_dashboards": {
      "version": 1,
      "views": {
       "grid_default": {},
       "report_default": {}
      }
     }
    }
   },
   "outputs": [
    {
     "name": "stderr",
     "output_type": "stream",
     "text": [
      "/Users/jbobin/Documents/ThirdParty/Python-3.6.7_gcc49/lib/python3.6/site-packages/matplotlib/font_manager.py:1241: UserWarning: findfont: Font family ['normal'] not found. Falling back to DejaVu Sans.\n",
      "  (prop.get_family(), self.defaultFamily[fontext]))\n"
     ]
    },
    {
     "data": {
      "image/png": "[encoded data removed]",
      "text/plain": [
       "<Figure size 1080x720 with 1 Axes>"
      ]
     },
     "metadata": {
      "needs_background": "light"
     },
     "output_type": "display_data"
    }
   ],
   "source": [
    "save = False\n",
    "\n",
    "fsize = 16\n",
    "vcol = ['mediumseagreen','crimson','steelblue','darkmagenta','burlywood','khaki','lightblue','darkseagreen','deepskyblue','forestgreen','gold','indianred','midnightblue','olive','orangered','orchid','red','steelblue']\n",
    "font = {'family' : 'normal',\n",
    "            'weight' : 'bold',\n",
    "            'size'   : fsize}\n",
    "plt.rc('font', **font)\n",
    "plt.rcParams[\"figure.figsize\"] = (15,10)\n",
    "\n",
    "niter = -1\n",
    "bins = np.linspace(-2.5, -0.5, 40)\n",
    "plt.hist(np.log10(Oca1000[niter]),bins,alpha=0.3,density=True,color=vcol[0])\n",
    "plt.hist(np.log10(Oca100[niter]),bins,alpha=0.3,density=True,color=vcol[1])\n",
    "plt.hist(np.log10(Oca10[niter]),bins,alpha=0.3,density=True,color=vcol[2])\n",
    "#plt.hist(np.log10(Ocam10[98]),bins,alpha=0.3,density=True)\n",
    "plt.axvline(x=np.log10(Ocam1000[niter]),color=vcol[0],lw=8,alpha=0.75,linestyle=':')\n",
    "plt.axvline(x=np.log10(Ocam100[niter]),color=vcol[1],lw=8,alpha=0.75,linestyle=':')\n",
    "plt.axvline(x=np.log10(Ocam10[niter]),color=vcol[2],lw=8,alpha=0.75,linestyle=':')\n",
    "plt.xlabel(\"CA\")\n",
    "plt.legend(['1000','100','10'])\n",
    "fig = plt.gcf()\n",
    "fig.set_size_inches(15, 10)\n",
    "if save:\n",
    "    fig.savefig('CaHist_FM_rho0_1.png', dpi=300, facecolor='w', edgecolor='w',orientation='portrait', format='png',transparent=True, bbox_inches='tight', pad_inches=0.5,frameon=True)"
   ]
  },
  {
   "cell_type": "code",
   "execution_count": 5,
   "metadata": {
    "extensions": {
     "jupyter_dashboards": {
      "version": 1,
      "views": {
       "grid_default": {},
       "report_default": {}
      }
     }
    }
   },
   "outputs": [
    {
     "data": {
      "image/png": "[encoded data removed]",
      "text/plain": [
       "<Figure size 1080x720 with 1 Axes>"
      ]
     },
     "metadata": {
      "needs_background": "light"
     },
     "output_type": "display_data"
    }
   ],
   "source": [
    "plt.close()\n",
    "\n",
    "save = False\n",
    "\n",
    "fsize = 16\n",
    "vcol = ['mediumseagreen','crimson','steelblue','darkmagenta','burlywood','khaki','lightblue','darkseagreen','deepskyblue','forestgreen','gold','indianred','midnightblue','olive','orangered','orchid','red','steelblue']\n",
    "font = {'family' : 'normal',\n",
    "            'weight' : 'bold',\n",
    "            'size'   : fsize}\n",
    "plt.rc('font', **font)\n",
    "plt.rcParams[\"figure.figsize\"] = (15,10)\n",
    "\n",
    "bins = np.linspace(-1.5, 1.5, 25)\n",
    "plt.hist((Osad1000[-1]),bins,alpha=0.3,density=True,color=vcol[0])\n",
    "plt.hist((Osad100[-1]),bins,alpha=0.3,density=True,color=vcol[1])\n",
    "plt.hist((Osad10[-1]),bins,alpha=0.3,density=True,color=vcol[2])\n",
    "#plt.hist(np.log10(Ocam10[98]),bins,alpha=0.3,density=True)\n",
    "plt.axvline(x=(Osadm1000[-1]),color=vcol[0],lw=8,alpha=0.75,linestyle=':')\n",
    "plt.axvline(x=(Osadm100[-1]),color=vcol[1],lw=8,alpha=0.75,linestyle=':')\n",
    "plt.axvline(x=(Osadm10[-1]),color=vcol[2],lw=8,alpha=0.75,linestyle=':')\n",
    "\n",
    "\n",
    "plt.legend(['1000','100','10'])\n",
    "fig = plt.gcf()\n",
    "fig.set_size_inches(15, 10)\n",
    "if save:\n",
    "    fig.savefig('AngleHist_FM_rho0_1.png', dpi=300, facecolor='w', edgecolor='w',orientation='portrait', format='png',transparent=True, bbox_inches='tight', pad_inches=0.5,frameon=True)"
   ]
  },
  {
   "cell_type": "code",
   "execution_count": 6,
   "metadata": {
    "extensions": {
     "jupyter_dashboards": {
      "version": 1,
      "views": {
       "grid_default": {},
       "report_default": {}
      }
     }
    }
   },
   "outputs": [
    {
     "data": {
      "image/png": "[encoded data removed]",
      "text/plain": [
       "<Figure size 1080x720 with 1 Axes>"
      ]
     },
     "metadata": {
      "needs_background": "light"
     },
     "output_type": "display_data"
    }
   ],
   "source": [
    "save = False\n",
    "\n",
    "fsize = 16\n",
    "vcol = ['mediumseagreen','crimson','steelblue','darkmagenta','burlywood','khaki','lightblue','darkseagreen','deepskyblue','forestgreen','gold','indianred','midnightblue','olive','orangered','orchid','red','steelblue']\n",
    "font = {'family' : 'normal',\n",
    "            'weight' : 'bold',\n",
    "            'size'   : fsize}\n",
    "plt.rc('font', **font)\n",
    "plt.rcParams[\"figure.figsize\"] = (15,10)\n",
    "\n",
    "niter = 10\n",
    "\n",
    "bins = np.linspace(-3, -0.5, 25)\n",
    "plt.hist(np.log10(rOca1000[niter]),bins,alpha=0.3,density=True,color=vcol[0])\n",
    "plt.hist(np.log10(rOca100[niter]),bins,alpha=0.3,density=True,color=vcol[1])\n",
    "plt.hist(np.log10(rOca10[niter]),bins,alpha=0.3,density=True,color=vcol[2])\n",
    "#plt.hist(np.log10(Ocam10[98]),bins,alpha=0.3,density=True)\n",
    "plt.axvline(x=np.log10(rOcam1000[niter]),color=vcol[0],lw=8,alpha=0.75,linestyle=':')\n",
    "plt.axvline(x=np.log10(rOcam100[niter]),color=vcol[1],lw=8,alpha=0.75,linestyle=':')\n",
    "plt.axvline(x=np.log10(rOcam10[niter]),color=vcol[2],lw=8,alpha=0.75,linestyle=':')\n",
    "plt.xlabel(\"CA\")\n",
    "\n",
    "plt.legend(['1000','100','10'])\n",
    "fig = plt.gcf()\n",
    "fig.set_size_inches(15, 10)\n",
    "if save:\n",
    "    fig.savefig('CaHist_rFM_rho0_1_iter10.png', dpi=300, facecolor='w', edgecolor='w',orientation='portrait', format='png',transparent=True, bbox_inches='tight', pad_inches=0.5,frameon=True)\n"
   ]
  },
  {
   "cell_type": "code",
   "execution_count": 10,
   "metadata": {
    "extensions": {
     "jupyter_dashboards": {
      "version": 1,
      "views": {
       "grid_default": {},
       "report_default": {}
      }
     }
    }
   },
   "outputs": [
    {
     "name": "stderr",
     "output_type": "stream",
     "text": [
      "/opt/local/Library/Frameworks/Python.framework/Versions/3.6/lib/python3.6/site-packages/matplotlib/font_manager.py:1328: UserWarning: findfont: Font family ['normal'] not found. Falling back to DejaVu Sans\n",
      "  (prop.get_family(), self.defaultFamily[fontext]))\n"
     ]
    },
    {
     "data": {
      "image/png": "[encoded data removed]",
      "text/plain": [
       "<Figure size 1080x720 with 1 Axes>"
      ]
     },
     "metadata": {},
     "output_type": "display_data"
    }
   ],
   "source": [
    "plt.close()\n",
    "\n",
    "save = False\n",
    "\n",
    "fsize = 16\n",
    "vcol = ['mediumseagreen','crimson','steelblue','darkmagenta','burlywood','khaki','lightblue','darkseagreen','deepskyblue','forestgreen','gold','indianred','midnightblue','olive','orangered','orchid','red','steelblue']\n",
    "font = {'family' : 'normal',\n",
    "            'weight' : 'bold',\n",
    "            'size'   : fsize}\n",
    "plt.rc('font', **font)\n",
    "plt.rcParams[\"figure.figsize\"] = (15,10)\n",
    "\n",
    "niter = -1\n",
    "bins = np.linspace(-1.5, 1.5, 25)\n",
    "plt.hist((rOsad1000[-1]),bins,alpha=0.3,density=True,color=vcol[0])\n",
    "plt.hist((rOsad100[-1]),bins,alpha=0.3,density=True,color=vcol[1])\n",
    "plt.hist((rOsad10[-1]),bins,alpha=0.3,density=True,color=vcol[2])\n",
    "#plt.hist(np.log10(Ocam10[98]),bins,alpha=0.3,density=True)\n",
    "plt.axvline(x=(rOsadm1000[-1]),color=vcol[0],lw=8,alpha=0.75,linestyle=':')\n",
    "plt.axvline(x=(rOsadm100[-1]),color=vcol[1],lw=8,alpha=0.75,linestyle=':')\n",
    "plt.axvline(x=(rOsadm10[-1]),color=vcol[2],lw=8,alpha=0.75,linestyle=':')\n",
    "\n",
    "\n",
    "\n",
    "plt.legend(['1000','100','10'])\n",
    "fig = plt.gcf()\n",
    "fig.set_size_inches(15, 10)\n",
    "if save:\n",
    "    fig.savefig('AngleHist_rFM_rho0_1.png', dpi=300, facecolor='w', edgecolor='w',orientation='portrait', format='png',transparent=True, bbox_inches='tight', pad_inches=0.5,frameon=True)"
   ]
  },
  {
   "cell_type": "markdown",
   "metadata": {
    "extensions": {
     "jupyter_dashboards": {
      "version": 1,
      "views": {
       "grid_default": {},
       "report_default": {}
      }
     }
    }
   },
   "source": [
    "## Experiments"
   ]
  },
  {
   "cell_type": "code",
   "execution_count": null,
   "metadata": {
    "extensions": {
     "jupyter_dashboards": {
      "version": 1,
      "views": {
       "grid_default": {},
       "report_default": {}
      }
     }
    }
   },
   "outputs": [],
   "source": [
    "import scipy.io as sio\n",
    "\n",
    "nmax = 250\n",
    "critA_omp = []\n",
    "critA = []\n",
    "Time_omp = []\n",
    "Time = []\n",
    "\n",
    "totalSize = 10000\n",
    "vBS = np.array([10,25,50,100,250,500,1000,1250,2500,5000])\n",
    "n_s = 5 # Number of sources\n",
    "n_obs = 20 # Number of observations\n",
    "nmax = 250\n",
    "BS = totalSize\n",
    "\n",
    "# rho = 0.5\n",
    "\n",
    "rho = 0.5\n",
    "Ainit = np.random.randn(n_obs,n_s)\n",
    "Ainit = Ainit/np.maximum(0,np.linalg.norm(Ainit,axis=0))\n",
    "\n",
    "N_MC = 10\n",
    "\n",
    "for nmc in range(N_MC):\n",
    "\n",
    "    X,X0,A0,S0,N = Make_Experiment_GG(n_s=n_s,n_obs=n_obs,t_samp=totalSize,noise_level=40.0,dynamic=1,CondNumber=1,alpha=rho)\n",
    "\n",
    "    t2 = time.time()\n",
    "    out,FMw,th = dgo.Core_DGMCA(X=X,n=5,A=Ainit,kend=1.,q_f=0.1,nmax=nmax,L0=1,verb=0,Kmax=0.5,tol=1e-6, subBlockSize=BS, SCOpt=1,alphaEstOpt=1,alpha_exp=2.)\n",
    "    t3 = time.time()\n",
    "    Time.append(t3-t2)\n",
    "    critA.append(EvalCriterion_eval(A0,S0,out,S0)['ca_mean'])\n",
    "\n",
    "\n",
    "critA_FMeq = []\n",
    "Time_FMeq = []\n",
    "critA_FM = []\n",
    "Time_FM = []\n",
    "critA_rFMeq = []\n",
    "Time_rFMeq = []\n",
    "critA_rFM = []\n",
    "Time_rFM = []\n",
    "critA_EUCeq = []\n",
    "Time_EUCeq = []\n",
    "critA_EUC = []\n",
    "Time_EUC = []\n",
    "\n",
    "for nmc in range(N_MC):\n",
    "\n",
    "    X,X0,A0,S0,N = Make_Experiment_GG(n_s=n_s,n_obs=n_obs,t_samp=totalSize,noise_level=40.0,dynamic=1,CondNumber=1,alpha=rho)\n",
    "\n",
    "    for r in range(len(vBS)):\n",
    "\n",
    "        BS = vBS[r]\n",
    "        t1 = time.time()\n",
    "        out_omp,FMw,th = dgo.Core_DGMCA(X=X,n=n_s,A=Ainit,kend=1.,AggMeth='FM',Equal=True,q_f=0.1,nmax=nmax,L0=1,verb=0,Kmax=0.5,tol=1e-6, subBlockSize=BS, SCOpt=1,alphaEstOpt=1,alpha_exp=2.)\n",
    "        t2 = time.time()\n",
    "        Time_FMeq.append(t2-t1)\n",
    "        critA_FMeq.append(EvalCriterion_eval(A0,S0,out_omp,S0)['ca_mean'])\n",
    "        t1 = time.time()\n",
    "        out_omp,FMw,th = dgo.Core_DGMCA(X=X,n=n_s,A=Ainit,kend=1.,AggMeth='FM',Equal=False,q_f=0.1,nmax=nmax,L0=1,verb=0,Kmax=0.5,tol=1e-6, subBlockSize=BS, SCOpt=1,alphaEstOpt=1,alpha_exp=2.)\n",
    "        t2 = time.time()\n",
    "        Time_FM.append(t2-t1)\n",
    "        critA_FM.append(EvalCriterion_eval(A0,S0,out_omp,S0)['ca_mean'])\n",
    "        t1 = time.time()\n",
    "        out_omp,FMw,th = dgo.Core_DGMCA(X=X,n=n_s,A=Ainit,kend=1.,AggMeth='rFM',Equal=True,q_f=0.1,nmax=nmax,L0=1,verb=0,Kmax=0.5,tol=1e-6, subBlockSize=BS, SCOpt=1,alphaEstOpt=1,alpha_exp=2.)\n",
    "        t2 = time.time()\n",
    "        Time_rFMeq.append(t2-t1)\n",
    "        critA_rFMeq.append(EvalCriterion_eval(A0,S0,out_omp,S0)['ca_mean'])\n",
    "        t1 = time.time()\n",
    "        out_omp,FMw,th = dgo.Core_DGMCA(X=X,n=n_s,A=Ainit,kend=1.,AggMeth='rFM',Equal=False,q_f=0.1,nmax=nmax,L0=1,verb=0,Kmax=0.5,tol=1e-6, subBlockSize=BS, SCOpt=1,alphaEstOpt=1,alpha_exp=2.)\n",
    "        t2 = time.time()\n",
    "        Time_rFM.append(t2-t1)\n",
    "        critA_rFM.append(EvalCriterion_eval(A0,S0,out_omp,S0)['ca_mean'])\n",
    "        t1 = time.time()\n",
    "        out_omp,FMw,th = dgo.Core_DGMCA(X=X,n=n_s,A=Ainit,kend=1.,AggMeth='Euclidean',Equal=True,q_f=0.1,nmax=nmax,L0=1,verb=0,Kmax=0.5,tol=1e-6, subBlockSize=BS, SCOpt=1,alphaEstOpt=1,alpha_exp=2.)\n",
    "        t2 = time.time()\n",
    "        Time_EUCeq.append(t2-t1)\n",
    "        critA_EUCeq.append(EvalCriterion_eval(A0,S0,out_omp,S0)['ca_mean'])\n",
    "        t1 = time.time()\n",
    "        out_omp,FMw,th = dgo.Core_DGMCA(X=X,n=n_s,A=Ainit,kend=1.,AggMeth='Euclidean',Equal=False,q_f=0.1,nmax=nmax,L0=1,verb=0,Kmax=0.5,tol=1e-6, subBlockSize=BS, SCOpt=1,alphaEstOpt=1,alpha_exp=2.)\n",
    "        t2 = time.time()\n",
    "        Time_EUC.append(t2-t1)\n",
    "        critA_EUC.append(EvalCriterion_eval(A0,S0,out_omp,S0)['ca_mean'])\n",
    "        \n",
    "        sio.savemat(\"dGMCA_rho_0_5.mat\",mdict={\"Time_FMeq\":Time_FMeq,\"critA_FMeq\":critA_FMeq,\"Time_FM\":Time_FM,\"critA_FM\":critA_FM,\"Time_rFMeq\":Time_rFMeq,\"critA_rFMeq\":critA_rFMeq,\"Time_rFM\":Time_rFM,\"critA_rFM\":critA_rFM,\"Time_EUCeq\":Time_EUCeq,\"critA_EUCeq\":critA_EUCeq,\"Time_EUC\":Time_EUC,\"critA_EUC\":critA_EUC})\n",
    "\n",
    "#### rho = 0.2\n",
    "        \n",
    "rho = 0.2\n",
    "Ainit = np.random.randn(n_obs,n_s)\n",
    "Ainit = Ainit/np.maximum(0,np.linalg.norm(Ainit,axis=0))\n",
    "\n",
    "N_MC = 10\n",
    "\n",
    "for nmc in range(N_MC):\n",
    "\n",
    "    X,X0,A0,S0,N = Make_Experiment_GG(n_s=n_s,n_obs=n_obs,t_samp=totalSize,noise_level=40.0,dynamic=1,CondNumber=1,alpha=rho)\n",
    "\n",
    "    t2 = time.time()\n",
    "    out,FMw,th = dgo.Core_DGMCA(X=X,n=5,A=Ainit,kend=1.,q_f=0.1,nmax=nmax,L0=1,verb=0,Kmax=0.5,tol=1e-6, subBlockSize=BS, SCOpt=1,alphaEstOpt=1,alpha_exp=2.)\n",
    "    t3 = time.time()\n",
    "    Time.append(t3-t2)\n",
    "    critA.append(EvalCriterion_eval(A0,S0,out,S0)['ca_mean'])\n",
    "\n",
    "\n",
    "critA_FMeq = []\n",
    "Time_FMeq = []\n",
    "critA_FM = []\n",
    "Time_FM = []\n",
    "critA_rFMeq = []\n",
    "Time_rFMeq = []\n",
    "critA_rFM = []\n",
    "Time_rFM = []\n",
    "critA_EUCeq = []\n",
    "Time_EUCeq = []\n",
    "critA_EUC = []\n",
    "Time_EUC = []\n",
    "\n",
    "for nmc in range(N_MC):\n",
    "\n",
    "    X,X0,A0,S0,N = Make_Experiment_GG(n_s=n_s,n_obs=n_obs,t_samp=totalSize,noise_level=40.0,dynamic=1,CondNumber=1,alpha=rho)\n",
    "\n",
    "    for r in range(len(vBS)):\n",
    "\n",
    "        BS = vBS[r]\n",
    "        t1 = time.time()\n",
    "        out_omp,FMw,th = dgo.Core_DGMCA(X=X,n=n_s,A=Ainit,kend=1.,AggMeth='FM',Equal=True,q_f=0.1,nmax=nmax,L0=1,verb=0,Kmax=0.5,tol=1e-6, subBlockSize=BS, SCOpt=1,alphaEstOpt=1,alpha_exp=2.)\n",
    "        t2 = time.time()\n",
    "        Time_FMeq.append(t2-t1)\n",
    "        critA_FMeq.append(EvalCriterion_eval(A0,S0,out_omp,S0)['ca_mean'])\n",
    "        t1 = time.time()\n",
    "        out_omp,FMw,th = dgo.Core_DGMCA(X=X,n=n_s,A=Ainit,kend=1.,AggMeth='FM',Equal=False,q_f=0.1,nmax=nmax,L0=1,verb=0,Kmax=0.5,tol=1e-6, subBlockSize=BS, SCOpt=1,alphaEstOpt=1,alpha_exp=2.)\n",
    "        t2 = time.time()\n",
    "        Time_FM.append(t2-t1)\n",
    "        critA_FM.append(EvalCriterion_eval(A0,S0,out_omp,S0)['ca_mean'])\n",
    "        t1 = time.time()\n",
    "        out_omp,FMw,th = dgo.Core_DGMCA(X=X,n=n_s,A=Ainit,kend=1.,AggMeth='rFM',Equal=True,q_f=0.1,nmax=nmax,L0=1,verb=0,Kmax=0.5,tol=1e-6, subBlockSize=BS, SCOpt=1,alphaEstOpt=1,alpha_exp=2.)\n",
    "        t2 = time.time()\n",
    "        Time_rFMeq.append(t2-t1)\n",
    "        critA_rFMeq.append(EvalCriterion_eval(A0,S0,out_omp,S0)['ca_mean'])\n",
    "        t1 = time.time()\n",
    "        out_omp,FMw,th = dgo.Core_DGMCA(X=X,n=n_s,A=Ainit,kend=1.,AggMeth='rFM',Equal=False,q_f=0.1,nmax=nmax,L0=1,verb=0,Kmax=0.5,tol=1e-6, subBlockSize=BS, SCOpt=1,alphaEstOpt=1,alpha_exp=2.)\n",
    "        t2 = time.time()\n",
    "        Time_rFM.append(t2-t1)\n",
    "        critA_rFM.append(EvalCriterion_eval(A0,S0,out_omp,S0)['ca_mean'])\n",
    "        t1 = time.time()\n",
    "        out_omp,FMw,th = dgo.Core_DGMCA(X=X,n=n_s,A=Ainit,kend=1.,AggMeth='Euclidean',Equal=True,q_f=0.1,nmax=nmax,L0=1,verb=0,Kmax=0.5,tol=1e-6, subBlockSize=BS, SCOpt=1,alphaEstOpt=1,alpha_exp=2.)\n",
    "        t2 = time.time()\n",
    "        Time_EUCeq.append(t2-t1)\n",
    "        critA_EUCeq.append(EvalCriterion_eval(A0,S0,out_omp,S0)['ca_mean'])\n",
    "        t1 = time.time()\n",
    "        out_omp,FMw,th = dgo.Core_DGMCA(X=X,n=n_s,A=Ainit,kend=1.,AggMeth='Euclidean',Equal=False,q_f=0.1,nmax=nmax,L0=1,verb=0,Kmax=0.5,tol=1e-6, subBlockSize=BS, SCOpt=1,alphaEstOpt=1,alpha_exp=2.)\n",
    "        t2 = time.time()\n",
    "        Time_EUC.append(t2-t1)\n",
    "        critA_EUC.append(EvalCriterion_eval(A0,S0,out_omp,S0)['ca_mean'])\n",
    "        \n",
    "        sio.savemat(\"dGMCA_rho_0_2.mat\",mdict={\"Time_FMeq\":Time_FMeq,\"critA_FMeq\":critA_FMeq,\"Time_FM\":Time_FM,\"critA_FM\":critA_FM,\"Time_rFMeq\":Time_rFMeq,\"critA_rFMeq\":critA_rFMeq,\"Time_rFM\":Time_rFM,\"critA_rFM\":critA_rFM,\"Time_EUCeq\":Time_EUCeq,\"critA_EUCeq\":critA_EUCeq,\"Time_EUC\":Time_EUC,\"critA_EUC\":critA_EUC})\n",
    "\n",
    "        \n",
    "#### rho = 0.1\n",
    "        \n",
    "rho = 0.1\n",
    "Ainit = np.random.randn(n_obs,n_s)\n",
    "Ainit = Ainit/np.maximum(0,np.linalg.norm(Ainit,axis=0))\n",
    "\n",
    "N_MC = 10\n",
    "\n",
    "for nmc in range(N_MC):\n",
    "\n",
    "    X,X0,A0,S0,N = Make_Experiment_GG(n_s=n_s,n_obs=n_obs,t_samp=totalSize,noise_level=40.0,dynamic=1,CondNumber=1,alpha=rho)\n",
    "\n",
    "    t2 = time.time()\n",
    "    out,FMw,th = dgo.Core_DGMCA(X=X,n=5,A=Ainit,kend=1.,q_f=0.1,nmax=nmax,L0=1,verb=0,Kmax=0.5,tol=1e-6, subBlockSize=BS, SCOpt=1,alphaEstOpt=1,alpha_exp=2.)\n",
    "    t3 = time.time()\n",
    "    Time.append(t3-t2)\n",
    "    critA.append(EvalCriterion_eval(A0,S0,out,S0)['ca_mean'])\n",
    "\n",
    "\n",
    "critA_FMeq = []\n",
    "Time_FMeq = []\n",
    "critA_FM = []\n",
    "Time_FM = []\n",
    "critA_rFMeq = []\n",
    "Time_rFMeq = []\n",
    "critA_rFM = []\n",
    "Time_rFM = []\n",
    "critA_EUCeq = []\n",
    "Time_EUCeq = []\n",
    "critA_EUC = []\n",
    "Time_EUC = []\n",
    "\n",
    "for nmc in range(N_MC):\n",
    "\n",
    "    X,X0,A0,S0,N = Make_Experiment_GG(n_s=n_s,n_obs=n_obs,t_samp=totalSize,noise_level=40.0,dynamic=1,CondNumber=1,alpha=rho)\n",
    "\n",
    "    for r in range(len(vBS)):\n",
    "\n",
    "        BS = vBS[r]\n",
    "        t1 = time.time()\n",
    "        out_omp,FMw,th = dgo.Core_DGMCA(X=X,n=n_s,A=Ainit,kend=1.,AggMeth='FM',Equal=True,q_f=0.1,nmax=nmax,L0=1,verb=0,Kmax=0.5,tol=1e-6, subBlockSize=BS, SCOpt=1,alphaEstOpt=1,alpha_exp=2.)\n",
    "        t2 = time.time()\n",
    "        Time_FMeq.append(t2-t1)\n",
    "        critA_FMeq.append(EvalCriterion_eval(A0,S0,out_omp,S0)['ca_mean'])\n",
    "        t1 = time.time()\n",
    "        out_omp,FMw,th = dgo.Core_DGMCA(X=X,n=n_s,A=Ainit,kend=1.,AggMeth='FM',Equal=False,q_f=0.1,nmax=nmax,L0=1,verb=0,Kmax=0.5,tol=1e-6, subBlockSize=BS, SCOpt=1,alphaEstOpt=1,alpha_exp=2.)\n",
    "        t2 = time.time()\n",
    "        Time_FM.append(t2-t1)\n",
    "        critA_FM.append(EvalCriterion_eval(A0,S0,out_omp,S0)['ca_mean'])\n",
    "        t1 = time.time()\n",
    "        out_omp,FMw,th = dgo.Core_DGMCA(X=X,n=n_s,A=Ainit,kend=1.,AggMeth='rFM',Equal=True,q_f=0.1,nmax=nmax,L0=1,verb=0,Kmax=0.5,tol=1e-6, subBlockSize=BS, SCOpt=1,alphaEstOpt=1,alpha_exp=2.)\n",
    "        t2 = time.time()\n",
    "        Time_rFMeq.append(t2-t1)\n",
    "        critA_rFMeq.append(EvalCriterion_eval(A0,S0,out_omp,S0)['ca_mean'])\n",
    "        t1 = time.time()\n",
    "        out_omp,FMw,th = dgo.Core_DGMCA(X=X,n=n_s,A=Ainit,kend=1.,AggMeth='rFM',Equal=False,q_f=0.1,nmax=nmax,L0=1,verb=0,Kmax=0.5,tol=1e-6, subBlockSize=BS, SCOpt=1,alphaEstOpt=1,alpha_exp=2.)\n",
    "        t2 = time.time()\n",
    "        Time_rFM.append(t2-t1)\n",
    "        critA_rFM.append(EvalCriterion_eval(A0,S0,out_omp,S0)['ca_mean'])\n",
    "        t1 = time.time()\n",
    "        out_omp,FMw,th = dgo.Core_DGMCA(X=X,n=n_s,A=Ainit,kend=1.,AggMeth='Euclidean',Equal=True,q_f=0.1,nmax=nmax,L0=1,verb=0,Kmax=0.5,tol=1e-6, subBlockSize=BS, SCOpt=1,alphaEstOpt=1,alpha_exp=2.)\n",
    "        t2 = time.time()\n",
    "        Time_EUCeq.append(t2-t1)\n",
    "        critA_EUCeq.append(EvalCriterion_eval(A0,S0,out_omp,S0)['ca_mean'])\n",
    "        t1 = time.time()\n",
    "        out_omp,FMw,th = dgo.Core_DGMCA(X=X,n=n_s,A=Ainit,kend=1.,AggMeth='Euclidean',Equal=False,q_f=0.1,nmax=nmax,L0=1,verb=0,Kmax=0.5,tol=1e-6, subBlockSize=BS, SCOpt=1,alphaEstOpt=1,alpha_exp=2.)\n",
    "        t2 = time.time()\n",
    "        Time_EUC.append(t2-t1)\n",
    "        critA_EUC.append(EvalCriterion_eval(A0,S0,out_omp,S0)['ca_mean'])\n",
    "        \n",
    "        sio.savemat(\"dGMCA_rho_0_1.mat\",mdict={\"Time_FMeq\":Time_FMeq,\"critA_FMeq\":critA_FMeq,\"Time_FM\":Time_FM,\"critA_FM\":critA_FM,\"Time_rFMeq\":Time_rFMeq,\"critA_rFMeq\":critA_rFMeq,\"Time_rFM\":Time_rFM,\"critA_rFM\":critA_rFM,\"Time_EUCeq\":Time_EUCeq,\"critA_EUCeq\":critA_EUCeq,\"Time_EUC\":Time_EUC,\"critA_EUC\":critA_EUC})\n",
    "\n",
    "        \n",
    "#### rho = 0.05\n",
    "        \n",
    "rho = 0.05\n",
    "Ainit = np.random.randn(n_obs,n_s)\n",
    "Ainit = Ainit/np.maximum(0,np.linalg.norm(Ainit,axis=0))\n",
    "\n",
    "N_MC = 10\n",
    "\n",
    "for nmc in range(N_MC):\n",
    "\n",
    "    X,X0,A0,S0,N = Make_Experiment_GG(n_s=n_s,n_obs=n_obs,t_samp=totalSize,noise_level=40.0,dynamic=1,CondNumber=1,alpha=rho)\n",
    "\n",
    "    t2 = time.time()\n",
    "    out,FMw,th = dgo.Core_DGMCA(X=X,n=5,A=Ainit,kend=1.,q_f=0.1,nmax=nmax,L0=1,verb=0,Kmax=0.5,tol=1e-6, subBlockSize=BS, SCOpt=1,alphaEstOpt=1,alpha_exp=2.)\n",
    "    t3 = time.time()\n",
    "    Time.append(t3-t2)\n",
    "    critA.append(EvalCriterion_eval(A0,S0,out,S0)['ca_mean'])\n",
    "\n",
    "\n",
    "critA_FMeq = []\n",
    "Time_FMeq = []\n",
    "critA_FM = []\n",
    "Time_FM = []\n",
    "critA_rFMeq = []\n",
    "Time_rFMeq = []\n",
    "critA_rFM = []\n",
    "Time_rFM = []\n",
    "critA_EUCeq = []\n",
    "Time_EUCeq = []\n",
    "critA_EUC = []\n",
    "Time_EUC = []\n",
    "\n",
    "for nmc in range(N_MC):\n",
    "\n",
    "    X,X0,A0,S0,N = Make_Experiment_GG(n_s=n_s,n_obs=n_obs,t_samp=totalSize,noise_level=40.0,dynamic=1,CondNumber=1,alpha=rho)\n",
    "\n",
    "    for r in range(len(vBS)):\n",
    "\n",
    "        BS = vBS[r]\n",
    "        t1 = time.time()\n",
    "        out_omp,FMw,th = dgo.Core_DGMCA(X=X,n=n_s,A=Ainit,kend=1.,AggMeth='FM',Equal=True,q_f=0.1,nmax=nmax,L0=1,verb=0,Kmax=0.5,tol=1e-6, subBlockSize=BS, SCOpt=1,alphaEstOpt=1,alpha_exp=2.)\n",
    "        t2 = time.time()\n",
    "        Time_FMeq.append(t2-t1)\n",
    "        critA_FMeq.append(EvalCriterion_eval(A0,S0,out_omp,S0)['ca_mean'])\n",
    "        t1 = time.time()\n",
    "        out_omp,FMw,th = dgo.Core_DGMCA(X=X,n=n_s,A=Ainit,kend=1.,AggMeth='FM',Equal=False,q_f=0.1,nmax=nmax,L0=1,verb=0,Kmax=0.5,tol=1e-6, subBlockSize=BS, SCOpt=1,alphaEstOpt=1,alpha_exp=2.)\n",
    "        t2 = time.time()\n",
    "        Time_FM.append(t2-t1)\n",
    "        critA_FM.append(EvalCriterion_eval(A0,S0,out_omp,S0)['ca_mean'])\n",
    "        t1 = time.time()\n",
    "        out_omp,FMw,th = dgo.Core_DGMCA(X=X,n=n_s,A=Ainit,kend=1.,AggMeth='rFM',Equal=True,q_f=0.1,nmax=nmax,L0=1,verb=0,Kmax=0.5,tol=1e-6, subBlockSize=BS, SCOpt=1,alphaEstOpt=1,alpha_exp=2.)\n",
    "        t2 = time.time()\n",
    "        Time_rFMeq.append(t2-t1)\n",
    "        critA_rFMeq.append(EvalCriterion_eval(A0,S0,out_omp,S0)['ca_mean'])\n",
    "        t1 = time.time()\n",
    "        out_omp,FMw,th = dgo.Core_DGMCA(X=X,n=n_s,A=Ainit,kend=1.,AggMeth='rFM',Equal=False,q_f=0.1,nmax=nmax,L0=1,verb=0,Kmax=0.5,tol=1e-6, subBlockSize=BS, SCOpt=1,alphaEstOpt=1,alpha_exp=2.)\n",
    "        t2 = time.time()\n",
    "        Time_rFM.append(t2-t1)\n",
    "        critA_rFM.append(EvalCriterion_eval(A0,S0,out_omp,S0)['ca_mean'])\n",
    "        t1 = time.time()\n",
    "        out_omp,FMw,th = dgo.Core_DGMCA(X=X,n=n_s,A=Ainit,kend=1.,AggMeth='Euclidean',Equal=True,q_f=0.1,nmax=nmax,L0=1,verb=0,Kmax=0.5,tol=1e-6, subBlockSize=BS, SCOpt=1,alphaEstOpt=1,alpha_exp=2.)\n",
    "        t2 = time.time()\n",
    "        Time_EUCeq.append(t2-t1)\n",
    "        critA_EUCeq.append(EvalCriterion_eval(A0,S0,out_omp,S0)['ca_mean'])\n",
    "        t1 = time.time()\n",
    "        out_omp,FMw,th = dgo.Core_DGMCA(X=X,n=n_s,A=Ainit,kend=1.,AggMeth='Euclidean',Equal=False,q_f=0.1,nmax=nmax,L0=1,verb=0,Kmax=0.5,tol=1e-6, subBlockSize=BS, SCOpt=1,alphaEstOpt=1,alpha_exp=2.)\n",
    "        t2 = time.time()\n",
    "        Time_EUC.append(t2-t1)\n",
    "        critA_EUC.append(EvalCriterion_eval(A0,S0,out_omp,S0)['ca_mean'])\n",
    "        \n",
    "        sio.savemat(\"dGMCA_rho_0_05.mat\",mdict={\"Time_FMeq\":Time_FMeq,\"critA_FMeq\":critA_FMeq,\"Time_FM\":Time_FM,\"critA_FM\":critA_FM,\"Time_rFMeq\":Time_rFMeq,\"critA_rFMeq\":critA_rFMeq,\"Time_rFM\":Time_rFM,\"critA_rFM\":critA_rFM,\"Time_EUCeq\":Time_EUCeq,\"critA_EUCeq\":critA_EUCeq,\"Time_EUC\":Time_EUC,\"critA_EUC\":critA_EUC})\n"
   ]
  },
  {
   "cell_type": "code",
   "execution_count": null,
   "metadata": {
    "extensions": {
     "jupyter_dashboards": {
      "version": 1,
      "views": {
       "grid_default": {},
       "report_default": {}
      }
     }
    }
   },
   "outputs": [],
   "source": [
    "N_MC = 10\n",
    "vBS = np.array([10,25,50,100,250,500,1000,1250,2500,5000])\n",
    "nval = len(vBS)\n",
    "ntot = N_MC*nval\n",
    "\n",
    "data = sio.loadmat(\"results/dGMCA_rho_0_05.mat\")\n",
    "\n",
    "Time_FMeq = data[\"Time_FMeq\"]\n",
    "Time_FM = data[\"Time_FM\"]\n",
    "Time_rFMeq = data[\"Time_rFMeq\"]\n",
    "Time_rFM = data[\"Time_rFM\"]\n",
    "Time_EUCeq = data[\"Time_EUCeq\"]\n",
    "Time_EUC = data[\"Time_EUC\"]\n",
    "critA_FMeq = data[\"critA_FMeq\"]\n",
    "critA_FM = data[\"critA_FM\"]\n",
    "critA_rFMeq = data[\"critA_rFMeq\"]\n",
    "critA_rFM = data[\"critA_rFM\"]\n",
    "critA_EUCeq = data[\"critA_EUCeq\"]\n",
    "critA_EUC = data[\"critA_EUC\"]\n",
    "\n",
    "data = sio.loadmat(\"results/GMCA_rho_0_05.mat\")\n",
    "Time = data[\"Time\"]\n",
    "critA = data[\"CritA\"]\n",
    "\n",
    "CompTime = np.mean(Time)\n",
    "Crit = np.mean(critA)\n",
    "\n",
    "DCompTime_FMeq = np.mean(np.reshape(Time_FMeq[0:ntot],(N_MC,-1)),axis=0)\n",
    "DCrit_FMeq = np.mean(np.reshape(critA_FMeq[0:ntot],(N_MC,-1)),axis=0)\n",
    "DCompTime_FM = np.mean(np.reshape(Time_FM[0:ntot],(N_MC,-1)),axis=0)\n",
    "DCrit_FM = np.mean(np.reshape(critA_FM[0:ntot],(N_MC,-1)),axis=0)\n",
    "DCompTime_EUCeq = np.mean(np.reshape(Time_EUCeq[0:ntot],(N_MC,-1)),axis=0)\n",
    "DCrit_EUCeq = np.mean(np.reshape(critA_EUCeq[0:ntot],(N_MC,-1)),axis=0)\n",
    "DCompTime_EUC = np.mean(np.reshape(Time_EUC[0:ntot],(N_MC,-1)),axis=0)\n",
    "DCrit_EUC = np.mean(np.reshape(critA_EUC[0:ntot],(N_MC,-1)),axis=0)\n",
    "DCompTime_rFMeq = np.mean(np.reshape(Time_rFMeq[0:ntot],(N_MC,-1)),axis=0)\n",
    "DCrit_rFMeq = np.mean(np.reshape(critA_rFMeq[0:ntot],(N_MC,-1)),axis=0)\n",
    "DCompTime_rFM = np.mean(np.reshape(Time_rFM[0:ntot],(N_MC,-1)),axis=0)\n",
    "DCrit_rFM = np.mean(np.reshape(critA_rFM[0:ntot],(N_MC,-1)),axis=0)\n"
   ]
  },
  {
   "cell_type": "code",
   "execution_count": null,
   "metadata": {
    "extensions": {
     "jupyter_dashboards": {
      "version": 1,
      "views": {
       "grid_default": {},
       "report_default": {}
      }
     }
    }
   },
   "outputs": [],
   "source": [
    "\n",
    "fsize = 16\n",
    "vcol = ['mediumseagreen','crimson','steelblue','darkmagenta','burlywood','khaki','lightblue','darkseagreen','deepskyblue','forestgreen','gold','indianred','midnightblue','olive','orangered','orchid','red','steelblue']\n",
    "font = {'family' : 'normal',\n",
    "            'weight' : 'bold',\n",
    "            'size'   : fsize}\n",
    "plt.rc('font', **font)\n",
    "plt.rcParams[\"figure.figsize\"] = (15,10)\n",
    "\n",
    "totalSize = 10000\n",
    "\n",
    "plt.loglog(totalSize/vBS,CompTime/DCompTime_FMeq,'--s',alpha=0.7,lw=4,markersize=10,color=vcol[0])\n",
    "plt.loglog(totalSize/vBS,CompTime/DCompTime_rFMeq,'d--',lw=4,alpha=0.7,markersize=10,color=vcol[1])\n",
    "#plt.semilogy(vBS,DCrit_rFM,'d')\n",
    "plt.loglog(totalSize/vBS,CompTime/DCompTime_EUCeq,'o--',lw=4,alpha=0.7,markersize=10,color=vcol[2])\n",
    "#plt.semilogy(vBS,DCrit_EUC,'o')\n",
    "plt.legend([\"FMeq\",\"rFMeq\",\"EUCeq\"])\n",
    "\n",
    "plt.ylabel(\"Computation time gain\",fontsize = fsize+2,weight='bold')\n",
    "plt.xlabel(\"Data reduction ratio\",fontsize = fsize+2,weight='bold')\n",
    "\n",
    "fig = plt.gcf()\n",
    "fig.set_size_inches(15, 10)\n",
    "fig.savefig('CompTime_Gain_dGMCA_gg0_05.png', dpi=300, facecolor='w', edgecolor='w',orientation='portrait', format='png',transparent=True, bbox_inches='tight', pad_inches=0.5,frameon=True)\n",
    "\n",
    "plt.close()\n",
    "plt.loglog(vBS,DCompTime_FMeq,'--s',alpha=0.7,lw=4,markersize=10,color=vcol[0])\n",
    "plt.loglog(vBS,DCompTime_rFMeq,'d--',lw=4,alpha=0.7,markersize=10,color=vcol[1])\n",
    "#plt.semilogy(vBS,DCrit_rFM,'d')\n",
    "plt.loglog(vBS,DCompTime_EUCeq,'o--',lw=4,alpha=0.7,markersize=10,color=vcol[2])\n",
    "#plt.semilogy(vBS,DCrit_EUC,'o')\n",
    "plt.legend([\"FMeq\",\"rFMeq\",\"EUCeq\"])\n",
    "\n",
    "plt.ylabel(\"Computation time gain\",fontsize = fsize+2,weight='bold')\n",
    "plt.xlabel(\"Batch size\",fontsize = fsize+2,weight='bold')\n",
    "\n",
    "fig = plt.gcf()\n",
    "fig.set_size_inches(15, 10)\n",
    "fig.savefig('CompTime_dGMCA_gg0_05.png', dpi=300, facecolor='w', edgecolor='w',orientation='portrait', format='png',transparent=True, bbox_inches='tight', pad_inches=0.5,frameon=True)\n",
    "\n"
   ]
  },
  {
   "cell_type": "code",
   "execution_count": null,
   "metadata": {
    "extensions": {
     "jupyter_dashboards": {
      "version": 1,
      "views": {
       "grid_default": {},
       "report_default": {}
      }
     }
    }
   },
   "outputs": [],
   "source": [
    "fsize = 16\n",
    "vcol = ['mediumseagreen','crimson','steelblue','darkmagenta','burlywood','khaki','lightblue','darkseagreen','deepskyblue','forestgreen','gold','indianred','midnightblue','olive','orangered','orchid','red','steelblue']\n",
    "font = {'family' : 'normal',\n",
    "            'weight' : 'bold',\n",
    "            'size'   : fsize}\n",
    "plt.rc('font', **font)\n",
    "plt.rcParams[\"figure.figsize\"] = (15,10)\n",
    "\n",
    "plt.loglog(vBS,DCrit_FMeq,'--s',alpha=0.7,lw=4,markersize=10,color=vcol[0])\n",
    "#plt.semilogy(vBS,DCrit_FM)\n",
    "plt.loglog(vBS,DCrit_rFMeq,'d--',lw=4,alpha=0.7,markersize=10,color=vcol[1])\n",
    "#plt.semilogy(vBS,DCrit_rFM,'d')\n",
    "plt.loglog(vBS,DCrit_EUCeq,'o--',lw=4,alpha=0.7,markersize=10,color=vcol[2])\n",
    "#plt.semilogy(vBS,DCrit_EUC,'o')\n",
    "plt.loglog(vBS,Crit*np.ones_like(DCrit_FMeq),'--p',alpha=0.7,lw=4,markersize=10,color=vcol[3])\n",
    "\n",
    "plt.legend([\"FMeq\",\"rFMeq\",\"EUCeq\",\"NoBatch\"])\n",
    "\n",
    "plt.ylabel(\"Mixing matrix criterion\",fontsize = fsize+2,weight='bold')\n",
    "plt.xlabel(\"Batch size\",fontsize = fsize+2,weight='bold')\n",
    "\n",
    "fig = plt.gcf()\n",
    "fig.set_size_inches(15, 10)\n",
    "fig.savefig('MMC_dGMCA_gg0_05.png', dpi=300, facecolor='w', edgecolor='w',orientation='portrait', format='png',transparent=True, bbox_inches='tight', pad_inches=0.5,frameon=True)\n"
   ]
  },
  {
   "cell_type": "code",
   "execution_count": null,
   "metadata": {
    "extensions": {
     "jupyter_dashboards": {
      "version": 1,
      "views": {
       "grid_default": {},
       "report_default": {}
      }
     }
    }
   },
   "outputs": [],
   "source": []
  }
 ],
 "metadata": {
  "extensions": {
   "jupyter_dashboards": {
    "activeView": "grid_default",
    "version": 1,
    "views": {
     "grid_default": {
      "cellMargin": 10,
      "defaultCellHeight": 20,
      "maxColumns": 12,
      "name": "grid",
      "type": "grid"
     },
     "report_default": {
      "name": "report",
      "type": "report"
     }
    }
   }
  },
  "kernelspec": {
   "display_name": "Python 3",
   "language": "python",
   "name": "python3"
  },
  "language_info": {
   "codemirror_mode": {
    "name": "ipython",
    "version": 3
   },
   "file_extension": ".py",
   "mimetype": "text/x-python",
   "name": "python",
   "nbconvert_exporter": "python",
   "pygments_lexer": "ipython3",
   "version": "3.6.7"
  }
 },
 "nbformat": 4,
 "nbformat_minor": 2
}
