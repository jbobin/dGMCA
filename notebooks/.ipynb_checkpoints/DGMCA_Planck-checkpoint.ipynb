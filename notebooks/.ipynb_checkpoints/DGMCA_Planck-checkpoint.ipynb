{
 "cells": [
  {
   "cell_type": "code",
   "execution_count": 1,
   "metadata": {},
   "outputs": [],
   "source": [
    "import sys\n",
    "sys.path.append(\"../src/\")\n",
    "import numpy as np\n",
    "import matplotlib.pyplot as plt\n",
    "import matplotlib\n",
    "from utils_dgmca import divisorGenerator\n",
    "from utils_dgmca import Make_Experiment_GG\n",
    "from misc_dgmca import *\n",
    "import copy as cp\n",
    "#from tqdm import tqdm\n",
    "import DGMCA_omp as dgo\n",
    "import time\n",
    "import scipy.io as sio\n",
    "import os\n",
    "WrapLoc = os.environ['PYWRAP3_LOC']\n",
    "sys.path.insert(1,WrapLoc)\n",
    "import pyStarlet as ps\n",
    "LOC_PATH = os.environ[\"PYWORK_LOC\"]\n",
    "sys.path.insert(1,LOC_PATH+\"/pyMRS/\") # WE SHOULD DEFINE A PYDIR\n",
    "import healpy as hpy\n",
    "import pyMRS as pym\n",
    "from sklearn.decomposition import MiniBatchDictionaryLearning\n",
    "import GMCA as gmca\n"
   ]
  },
  {
   "cell_type": "markdown",
   "metadata": {},
   "source": [
    "## Load the data"
   ]
  },
  {
   "cell_type": "code",
   "execution_count": 2,
   "metadata": {},
   "outputs": [
    {
     "name": "stdout",
     "output_type": "stream",
     "text": [
      "12.0232007039896\n"
     ]
    },
    {
     "data": {
      "image/png": "[encoded data removed]",
      "text/plain": [
       "<Figure size 432x288 with 1 Axes>"
      ]
     },
     "metadata": {
      "needs_background": "light"
     },
     "output_type": "display_data"
    }
   ],
   "source": [
    "A0 = np.zeros((9,4))\n",
    "nu = np.array([30.,44,70,100.,143,217,353,545,857])\n",
    "A0[:,2] = np.power(nu/33.,-5.)\n",
    "A0[:,1] = np.power(nu/33.,-2.)\n",
    "A0[:,3] = np.power(nu/33.,-0.5)\n",
    "A0[:,0] = np.power(nu/33.,2.)\n",
    "A0 = A0/np.maximum(0,np.linalg.norm(A0,axis=0))\n",
    "plt.plot(A0)\n",
    "print(np.linalg.cond(A0))"
   ]
  },
  {
   "cell_type": "code",
   "execution_count": null,
   "metadata": {},
   "outputs": [],
   "source": [
    "S = np.zeros((4,2048*2048*12))\n",
    "S[1,:] = hpy.read_map('/Users/jbobin/Desktop/simus_FFP8_LMM/ffp8_freefree_nobpm_857_full_map.fits')\n",
    "#m = hpy.read_map('/Users/jbobin/Desktop/simus_FFP8_LMM/ffp8_noise_857_full_map.fits')\n",
    "S[3,:] = hpy.read_map('/Users/jbobin/Desktop/simus_FFP8_LMM/ffp8_spindust_nobpm_100_full_map.fits')\n",
    "S[2,:] = hpy.read_map('/Users/jbobin/Desktop/simus_FFP8_LMM/ffp8_synchrotron_bpm_857_full_map.fits')\n",
    "S[0,:]  = hpy.read_map('/Users/jbobin/Desktop/simus_FFP8_LMM/ffp8_thermaldust_nobpm_857_full_map.fits')\n",
    "#sz = hpy.read_map('/Users/jbobin/Desktop/simus_FFP8_LMM/ffp8_thermalsz_nobpm_857_full_map.fits')"
   ]
  },
  {
   "cell_type": "markdown",
   "metadata": {},
   "source": [
    "Sw = np.zeros((4,2*2048*2048*12))\n",
    "temp = pym.wttrans(S[0,:],nscale=3,lmax=4000)\n",
    "Sw[0,0:2048*2048*12] = temp[:,0]\n",
    "Sw[0,2048*2048*12::] = temp[:,1]\n",
    "temp = pym.wttrans(S[1,:],nscale=3,lmax=4000)\n",
    "Sw[1,0:2048*2048*12] = temp[:,0]\n",
    "Sw[1,2048*2048*12::] = temp[:,1]\n",
    "temp = pym.wttrans(S[2,:],nscale=3,lmax=4000)\n",
    "Sw[2,0:2048*2048*12] = temp[:,0]\n",
    "Sw[2,2048*2048*12::] = temp[:,1]\n",
    "temp = pym.wttrans(S[3,:],nscale=3,lmax=4000)\n",
    "Sw[3,0:2048*2048*12] = temp[:,0]\n",
    "Sw[3,2048*2048*12::] = temp[:,1]"
   ]
  },
  {
   "cell_type": "markdown",
   "metadata": {},
   "source": [
    "## Extracting patches from the wavelet scales:"
   ]
  },
  {
   "cell_type": "code",
   "execution_count": 14,
   "metadata": {},
   "outputs": [],
   "source": [
    "def Formatting_Data(X,BS=128,nscales = 2): \n",
    "    \n",
    "    def blockshaped(arr, nrows, ncols): ## Extracting non-overlapping patches\n",
    "        u,h, w = arr.shape\n",
    "        return (arr.reshape(u,h//nrows, nrows, -1, ncols)\n",
    "                   .swapaxes(2,3)\n",
    "                   .reshape(u,-1, nrows, ncols))\n",
    "    \n",
    "    Xout = np.copy(X)\n",
    "    \n",
    "    for r in range(X.shape[0]):\n",
    "        for scale in range(nscales):\n",
    "            f = pym.get_all_faces(X[r,scale*2048*2048*12:(scale+1)*2048*2048*12])\n",
    "            s = blockshaped(f, BS, BS)\n",
    "            s = np.reshape(s,(12,-1,BS*BS)).swapaxes(0,2)\n",
    "            s =np.reshape(s,(BS*BS,-1))\n",
    "            Xout[r,scale*2048*2048*12:(scale+1)*2048*2048*12] = np.reshape(s,(-1,),order='F')\n",
    "    \n",
    "    return Xout"
   ]
  },
  {
   "cell_type": "markdown",
   "metadata": {},
   "source": [
    "import astropy.io.fits as pyf\n",
    "\n",
    "Sout = Formatting_Data(Sw,BS=256,nscales = 2)\n",
    "pyf.writeto('PlanckSources_BS256_J2_v2.fits',Sout)\n",
    "\n",
    "Sout = Formatting_Data(Sw,BS=128,nscales = 2)\n",
    "pyf.writeto('PlanckSources_BS128_J2_v2.fits',Sout)\n",
    "\n",
    "Sout = Formatting_Data(Sw,BS=64,nscales = 2)\n",
    "pyf.writeto('PlanckSources_BS64_J2_v2.fits',Sout)\n",
    "\n",
    "Sout = Formatting_Data(Sw,BS=32,nscales = 2)\n",
    "pyf.writeto('PlanckSources_BS32_J2_v2.fits',Sout)\n",
    "\n",
    "Sout = Formatting_Data(Sw,BS=16,nscales = 2)\n",
    "pyf.writeto('PlanckSources_BS16_J2_v2.fits',Sout)\n",
    "\n",
    "Sout = Formatting_Data(Sw,BS=8,nscales = 2)\n",
    "pyf.writeto('PlanckSources_BS8_J2_v2.fits',Sout)\n",
    "\n",
    "Sout = Formatting_Data(Sw,BS=4,nscales = 2)\n",
    "pyf.writeto('PlanckSources_BS4_J2_v2.fits',Sout)"
   ]
  },
  {
   "cell_type": "markdown",
   "metadata": {},
   "source": [
    "r = 0\n",
    "nbs = 8\n",
    "Sout = pyf.open('PlanckSources_BS'+str(nbs)+'_J2_v2.fits')[0].data\n",
    "plt.imshow(Sout[2,r*nbs*nbs:(r+1)*nbs*nbs].reshape(nbs,nbs)),plt.colorbar()"
   ]
  },
  {
   "cell_type": "markdown",
   "metadata": {},
   "source": [
    "## Running on the Planck data"
   ]
  },
  {
   "cell_type": "code",
   "execution_count": 3,
   "metadata": {},
   "outputs": [],
   "source": [
    "# Design the data\n",
    "\n",
    "def GetPlanckData(BS=128,SNR=40):\n",
    "    \n",
    "    import astropy.io.fits as pyf\n",
    "    Sout = pyf.open('data_planck/PlanckSources_BS'+str(BS)+'_J2_v2.fits')[0].data\n",
    "    Sout = np.diag(1./np.linalg.norm(Sout,axis=1))@Sout\n",
    "    X = A0@Sout\n",
    "    Noise = np.random.randn(X.shape[0],X.shape[1])\n",
    "    X = X + np.power(10.,-SNR/20.)*np.linalg.norm(X)/np.linalg.norm(Noise)*Noise\n",
    "    \n",
    "    return X,A0,Sout"
   ]
  },
  {
   "cell_type": "code",
   "execution_count": 65,
   "metadata": {},
   "outputs": [],
   "source": [
    "X,A0,S0 = GetPlanckData(BS=32,SNR=80)"
   ]
  },
  {
   "cell_type": "code",
   "execution_count": 72,
   "metadata": {},
   "outputs": [],
   "source": [
    "L1 = np.sum(abs(S0),axis=0)\n",
    "I = np.where(L1 > 0.0003)[0]\n",
    "S0[:,I] = 0"
   ]
  },
  {
   "cell_type": "code",
   "execution_count": 86,
   "metadata": {},
   "outputs": [
    {
     "name": "stdout",
     "output_type": "stream",
     "text": [
      "[0.1761990177534546]\n",
      "0.05184690618638374\n",
      "FM :  801.1649436950684\n",
      "0.05638377525329935\n",
      "pFM :  436.18312907218933\n"
     ]
    }
   ],
   "source": [
    "import scipy.io as sio\n",
    "from imp import reload\n",
    "reload(dgo)\n",
    "\n",
    "BS = 16*16\n",
    "U = np.random.permutation(S0.shape[1])\n",
    "\n",
    "\n",
    "Sp = S0[:,0:10000*BS]\n",
    "X = A0@Sp\n",
    "\n",
    "R = X@X.T\n",
    "L,U = np.linalg.eig(R)\n",
    "Q = np.diag(1./(L+1e-6*np.max(L)))@U.T\n",
    "X = Q@X\n",
    "Ai = Q@A0\n",
    "\n",
    "n_s=4\n",
    "\n",
    "critA_omp = []\n",
    "critA = []\n",
    "Time_omp = []\n",
    "Time = []\n",
    "\n",
    "n_obs = 9 # Number of observations        \n",
    "Ainit = np.random.randn(n_obs,n_s)\n",
    "Ainit = Ainit/np.maximum(0,np.linalg.norm(Ainit,axis=0))\n",
    "kend = 1.\n",
    "nmax = 500\n",
    "\n",
    "\n",
    "Res = gmca.GMCA(X,n=n_s,mints=kend,nmax=50,L0=1,UseP=1,verb=0,Init=0,SCOpt=0,Kmax=1)\n",
    "critA.append(EvalCriterion_eval(Ai,S0,Res['mixmat'],S0)['ca_mean'])\n",
    "print(critA)\n",
    "\n",
    "t1 = time.time()\n",
    "out_omp,FMw,th = dgo.Core_DGMCA(X=X,n=n_s,A=Ainit,FullyRandom=True,kend=kend,AggMeth='rFM',Equal=False,q_f=0.1,nmax=nmax,L0=1,verb=0,Kmax=0.5,tol=1e-6, subBlockSize=BS)\n",
    "print(EvalCriterion_eval(Ai,S0,out_omp,S0)['ca_mean'])\n",
    "print('FM : ',time.time()-t1)\n",
    "\n",
    "t1 = time.time()\n",
    "out_omp,FMw,th = dgo.Core_DGMCA(X=X,n=n_s,A=Ainit,FullyRandom=False,kend=kend,AggMeth='rFM',Equal=False,q_f=0.1,nmax=nmax,L0=1,verb=0,Kmax=0.5,tol=1e-6, subBlockSize=BS)\n",
    "print(EvalCriterion_eval(Ai,S0,out_omp,S0)['ca_mean'])\n",
    "print('pFM : ',time.time()-t1)"
   ]
  },
  {
   "cell_type": "code",
   "execution_count": 100,
   "metadata": {},
   "outputs": [
    {
     "name": "stdout",
     "output_type": "stream",
     "text": [
      "BS =  8\n",
      "GMCA :  0.09333552589833238\n",
      "rFM FR:  0.15069693031954\n",
      "ODL :  0.21896692834636786\n",
      "BS =  16\n",
      "GMCA :  0.09333552589833238\n",
      "rFM FR:  0.15036965333517727\n",
      "ODL :  0.06114220189115441\n",
      "BS =  32\n",
      "GMCA :  0.09333552589833238\n",
      "rFM FR:  0.149121639184243\n",
      "ODL :  0.13544594848820082\n",
      "BS =  64\n",
      "GMCA :  0.09333552589833238\n",
      "rFM FR:  0.14733403203696704\n",
      "ODL :  0.16272104364345938\n",
      "BS =  128\n",
      "GMCA :  0.09333552589833238\n",
      "rFM FR:  0.1476389521081213\n",
      "ODL :  0.13715312403347898\n",
      "BS =  256\n",
      "GMCA :  0.09333552589833238\n",
      "rFM FR:  0.1474581717916047\n",
      "ODL :  0.13181896967755005\n",
      "BS =  512\n",
      "GMCA :  0.09333552589833238\n",
      "rFM FR:  0.14713589559447385\n",
      "ODL :  0.1651674499997899\n",
      "BS =  1024\n",
      "GMCA :  0.09333552589833238\n",
      "rFM FR:  0.14710264466353026\n",
      "ODL :  0.14592014903761139\n"
     ]
    }
   ],
   "source": [
    "import scipy.io as sio\n",
    "\n",
    "critA_omp = []\n",
    "critA = []\n",
    "Time_omp = []\n",
    "Time = []\n",
    "\n",
    "#vBS = np.array([5,10,100,250,500,1000,2500,5000])\n",
    "vBS = np.array([8,16,32,64,128,256,512,1024])\n",
    "\n",
    "n_s = 4 # Number of sources\n",
    "n_obs = 9 # Number of observations        \n",
    "\n",
    "Ainit = np.random.randn(n_obs,n_s)\n",
    "Ainit = Ainit/np.maximum(0,np.linalg.norm(Ainit,axis=0))\n",
    "kend = 1\n",
    "\n",
    "N_MC = 1\n",
    "nmax = 250\n",
    "\n",
    "critA_FMeq = []\n",
    "Time_FMeq = []\n",
    "critA_FM = []\n",
    "Time_FM = []\n",
    "critA_rFMeq = []\n",
    "Time_rFMeq = []\n",
    "critA_rFM = []\n",
    "Time_rFM = []\n",
    "critA_EUCeq = []\n",
    "Time_EUCeq = []\n",
    "critA_EUC = []\n",
    "Time_EUC = []\n",
    "critA_ODL = []\n",
    "Time_ODL = []\n",
    "\n",
    "X,A0,S0 = GetPlanckData(BS=32,SNR=80)\n",
    "L1 = np.sum(abs(S0),axis=0)\n",
    "I = np.where(L1 > 0.0003)[0]\n",
    "S0[:,I] = 0\n",
    "Sp = S0[:,0:10000000]\n",
    "del S0\n",
    "X = A0@Sp\n",
    "N = np.random.randn(X.shape[0],X.shape[1])\n",
    "X = X + np.power(10.,-3)*np.linalg.norm(X)/np.linalg.norm(N)*N # Just add 60dB\n",
    "\n",
    "R = X@X.T\n",
    "L,U = np.linalg.eig(R)\n",
    "Q = np.diag(1./(L+1e-6*np.max(L)))@U.T\n",
    "X = Q@X\n",
    "Ai = Q@A0\n",
    "\n",
    "for nmc in range(N_MC):\n",
    "\n",
    "    for r in range(len(vBS)):\n",
    "\n",
    "        BS = vBS[r]\n",
    "    \n",
    "        print(\"BS = \",BS)\n",
    "    \n",
    "        Res = gmca.GMCA(X,n=n_s,mints=1.,nmax=250,L0=1,UseP=1,verb=0,Init=0,SCOpt=0,Kmax=1)\n",
    "        critA.append(EvalCriterion_eval(Ai,Sp,Res['mixmat'],Sp)['ca_mean'])\n",
    "        print(\"GMCA : \",critA[-1])\n",
    "        \n",
    "        out_omp,FMw,th = dgo.Core_DGMCA(X=X,n=n_s,A=Ainit,FullyRandom=True,kend=kend,AggMeth='FM',Equal=False,q_f=0.1,nmax=nmax,L0=1,verb=0,Kmax=0.5,tol=1e-6, subBlockSize=BS)\n",
    "        critA_FMeq.append(EvalCriterion_eval(Ai,Sp,out_omp,Sp)['ca_mean'])\n",
    "\n",
    "        out_omp,FMw,th = dgo.Core_DGMCA(X=X,n=n_s,A=Ainit,FullyRandom=True,kend=kend,AggMeth='rFM',Equal=False,q_f=0.1,nmax=nmax,L0=1,verb=0,Kmax=0.5,tol=1e-6, subBlockSize=BS)\n",
    "        critA_rFMeq.append(EvalCriterion_eval(Ai,Sp,out_omp,Sp)['ca_mean'])\n",
    "        print(\"rFM FR: \",critA_rFMeq[-1])\n",
    "\n",
    "        dico = MiniBatchDictionaryLearning(n_components=n_s, alpha=0.05, n_iter=10000,batch_size=BS,fit_algorithm='cd')\n",
    "        V = dico.fit(X.T).components_        \n",
    "        critA_ODL.append(EvalCriterion_eval(Ai,Sp,V.T,Sp)['ca_mean'])\n",
    "        print(\"ODL : \",critA_ODL[-1])\n",
    "        \n",
    "        sio.savemat(\"DGMCA_Planck_June20.mat\",mdict={\"Time_ODL\":Time_ODL,\"critA_ODL\":critA_ODL,\"nmc\":nmc,\"Time\":Time,\"critA\":critA,\"Time_FMeq\":Time_FMeq,\"critA_FMeq\":critA_FMeq,\"Time_FM\":Time_FM,\"critA_FM\":critA_FM,\"Time_rFMeq\":Time_rFMeq,\"critA_rFMeq\":critA_rFMeq,\"Time_rFM\":Time_rFM,\"critA_rFM\":critA_rFM,\"Time_EUCeq\":Time_EUCeq,\"critA_EUCeq\":critA_EUCeq,\"Time_EUC\":Time_EUC,\"critA_EUC\":critA_EUC})\n"
   ]
  },
  {
   "cell_type": "code",
   "execution_count": null,
   "metadata": {},
   "outputs": [],
   "source": [
    "print(critA_FMeq)"
   ]
  }
 ],
 "metadata": {
  "kernelspec": {
   "display_name": "Python 3",
   "language": "python",
   "name": "python3"
  },
  "language_info": {
   "codemirror_mode": {
    "name": "ipython",
    "version": 3
   },
   "file_extension": ".py",
   "mimetype": "text/x-python",
   "name": "python",
   "nbconvert_exporter": "python",
   "pygments_lexer": "ipython3",
   "version": "3.6.2"
  }
 },
 "nbformat": 4,
 "nbformat_minor": 2
}
