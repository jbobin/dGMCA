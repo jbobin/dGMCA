{
 "cells": [
  {
   "cell_type": "markdown",
   "metadata": {},
   "source": [
    "## Testing the thresholding (1)"
   ]
  },
  {
   "cell_type": "code",
   "execution_count": null,
   "metadata": {},
   "outputs": [],
   "source": [
    "import sys\n",
    "sys.path.append(\"../src/\")\n",
    "import numpy as np\n",
    "import matplotlib.pyplot as plt\n",
    "import matplotlib\n",
    "from utils_dgmca import divisorGenerator\n",
    "from utils_dgmca import Make_Experiment_GG\n",
    "from misc_dgmca import *\n",
    "import copy as cp\n",
    "#from tqdm import tqdm\n",
    "import DGMCA_omp as dgo\n",
    "import time\n",
    "import scipy.io as sio\n",
    "import GMCA as gmca"
   ]
  },
  {
   "cell_type": "code",
   "execution_count": null,
   "metadata": {},
   "outputs": [],
   "source": [
    "n = 5\n",
    "X,X0,A0,S0,N = Make_Experiment_GG(n_s=n,n_obs=20,t_samp=10000,noise_level=40.0,dynamic=1,CondNumber=2,alpha=0.2)"
   ]
  },
  {
   "cell_type": "code",
   "execution_count": null,
   "metadata": {},
   "outputs": [],
   "source": [
    "from time import time\n",
    "t1 = time()\n",
    "AInit = np.random.randn(20,n)\n",
    "Res = gmca.GMCA(X,n=n,mints=3.,nmax=250,L0=1,UseP=1,verb=0,Init=0,SCOpt=0,Kmax=1)\n",
    "print(EvalCriterion_eval(A0,S0,Res['mixmat'],S0)['ca_mean'])\n",
    "print('It took ',time()- t1,' s.')\n",
    "# out,FMw,th = dgo.Core_DGMCA(X=X,n=5,A=AInit,kend=3.,q_f=0.1,nmax=1000,AggMeth='rFM',Equal=False,L0=1,verb=0,Kmax=1.,tol=1e-6, subBlockSize=10, SCOpt=1,alphaEstOpt=0,alpha_exp=1.)\n",
    "# print(EvalCriterion_eval(A0,S0,out,S0)['ca_mean'])\n",
    "# print('It took ',time()- t1,' s.')"
   ]
  },
  {
   "cell_type": "code",
   "execution_count": null,
   "metadata": {},
   "outputs": [],
   "source": [
    "# import DGMCA_omp_v2 as dgo2\n",
    "from imp import reload\n",
    "reload(dgo2)\n",
    "R = np.dot(X,X.T)\n",
    "D,V = lng.eig(R)\n",
    "AInit = V[:,0:n]\n",
    "out,FMw,th = dgo.Core_DGMCA(X=X,n=n,A=AInit,kend=1.,q_f=0.1,nmax=500,AggMeth='rFM',Equal=False,L0=1,verb=0,Kmax=0.5,tol=1e-6, subBlockSize=10, SCOpt=0,alphaEstOpt=0,alpha_exp=1.)\n",
    "print(EvalCriterion_eval(A0,S0,out,S0)['ca_mean'])"
   ]
  },
  {
   "cell_type": "code",
   "execution_count": null,
   "metadata": {},
   "outputs": [],
   "source": [
    "critA_FM = []\n",
    "critA_rFM = []\n",
    "\n",
    "vbs = np.array([10,25,50,100,250,500,1000])\n",
    "\n",
    "for bs in vbs:\n",
    "    \n",
    "    out,FMw,th = dgo.Core_DGMCA(X=X,n=n,A=AInit,kend=1.,q_f=0.1,nmax=500,AggMeth='FM',Equal=False,L0=1,verb=0,Kmax=0.5,tol=1e-6, subBlockSize=bs, SCOpt=0,alphaEstOpt=0,alpha_exp=1.)\n",
    "    critA_FM.append(EvalCriterion_eval(A0,S0,out,S0)['ca_mean'])\n",
    "    out,FMw,th = dgo.Core_DGMCA(X=X,n=n,A=AInit,kend=1.,q_f=0.1,nmax=500,AggMeth='rFM',Equal=False,L0=1,verb=0,Kmax=0.5,tol=1e-6, subBlockSize=bs, SCOpt=0,alphaEstOpt=0,alpha_exp=1.)\n",
    "    critA_rFM.append(EvalCriterion_eval(A0,S0,out,S0)['ca_mean'])"
   ]
  },
  {
   "cell_type": "code",
   "execution_count": null,
   "metadata": {},
   "outputs": [],
   "source": [
    "plt.semilogy(vbs,critA_FM)\n",
    "plt.semilogy(vbs,critA_rFM)"
   ]
  },
  {
   "cell_type": "code",
   "execution_count": null,
   "metadata": {},
   "outputs": [],
   "source": [
    "critA_FM = []\n",
    "critA_rFM = []\n",
    "\n",
    "vbs = np.array([10,25,50,100,250,500,1000])\n",
    "\n",
    "for bs in vbs:\n",
    "    \n",
    "    out,FMw,th = dgo.Core_DGMCA(X=X,n=n,A=AInit,kend=1.,q_f=0.1,nmax=1000,AggMeth='FM',Equal=True,L0=1,verb=0,Kmax=0.5,tol=1e-6, subBlockSize=bs, SCOpt=0,alphaEstOpt=0,alpha_exp=1.)\n",
    "    critA_FM.append(EvalCriterion_eval(A0,S0,out,S0)['ca_mean'])\n",
    "    out,FMw,th = dgo.Core_DGMCA(X=X,n=n,A=AInit,kend=1.,q_f=0.1,nmax=1000,AggMeth='rFM',Equal=True,L0=1,verb=0,Kmax=0.5,tol=1e-6, subBlockSize=bs, SCOpt=0,alphaEstOpt=0,alpha_exp=1.)\n",
    "    critA_rFM.append(EvalCriterion_eval(A0,S0,out,S0)['ca_mean'])"
   ]
  },
  {
   "cell_type": "code",
   "execution_count": null,
   "metadata": {},
   "outputs": [],
   "source": [
    "plt.semilogy(vbs,critA_FM)\n",
    "plt.semilogy(vbs,critA_rFM)"
   ]
  },
  {
   "cell_type": "code",
   "execution_count": null,
   "metadata": {},
   "outputs": [],
   "source": [
    "n = 5\n",
    "X,X0,A0,S0,N = Make_Experiment_GG(n_s=n,n_obs=20,t_samp=10000,noise_level=120.0,dynamic=1,CondNumber=2,alpha=0.05)"
   ]
  },
  {
   "cell_type": "code",
   "execution_count": null,
   "metadata": {},
   "outputs": [],
   "source": [
    "AInit = np.random.randn(20,n)\n",
    "Res = gmca.GMCA(X,n=n,mints=3.,nmax=250,L0=1,UseP=1,verb=0,Init=0,SCOpt=0,Kmax=1)\n",
    "print(EvalCriterion_eval(A0,S0,Res['mixmat'],S0)['ca_mean'])"
   ]
  },
  {
   "cell_type": "code",
   "execution_count": null,
   "metadata": {},
   "outputs": [],
   "source": [
    "critA_FM = []\n",
    "critA_rFM = []\n",
    "\n",
    "vbs = np.array([10,25,50,100,250,500,1000])\n",
    "\n",
    "R = np.dot(X,X.T)\n",
    "D,V = lng.eig(R)\n",
    "AInit = V[:,0:n]\n",
    "\n",
    "for bs in vbs:\n",
    "    \n",
    "    out,FMw,th = dgo.Core_DGMCA(X=X,n=n,A=AInit,kend=3.,q_f=0.1,nmax=500,AggMeth='FM',Equal=False,L0=1,verb=0,Kmax=0.5,tol=1e-6, subBlockSize=bs, SCOpt=1,alphaEstOpt=0,alpha_exp=2.)\n",
    "    critA_FM.append(EvalCriterion_eval(A0,S0,out,S0)['ca_mean'])\n",
    "    out,FMw,th  = dgo.Core_DGMCA(X=X,n=n,A=AInit,kend=3.,q_f=0.1,nmax=500,AggMeth='rFM',Equal=False,L0=1,verb=0,Kmax=0.5,tol=1e-6, subBlockSize=bs, SCOpt=1,alphaEstOpt=0,alpha_exp=2.)\n",
    "    critA_rFM.append(EvalCriterion_eval(A0,S0,out,S0)['ca_mean'])"
   ]
  },
  {
   "cell_type": "code",
   "execution_count": null,
   "metadata": {},
   "outputs": [],
   "source": [
    "plt.loglog(vbs,critA_FM)\n",
    "plt.loglog(vbs,critA_rFM)"
   ]
  },
  {
   "cell_type": "code",
   "execution_count": null,
   "metadata": {},
   "outputs": [],
   "source": [
    "plt.loglog(np.array(Output_CA))"
   ]
  },
  {
   "cell_type": "markdown",
   "metadata": {},
   "source": [
    "## With Chandra data"
   ]
  },
  {
   "cell_type": "code",
   "execution_count": null,
   "metadata": {},
   "outputs": [],
   "source": [
    "import astropy.io.fits as pyf\n",
    "import os\n",
    "WrapLoc = os.environ['PYWRAP3_LOC']\n",
    "sys.path.insert(1,WrapLoc)\n",
    "import pyStarlet as ps\n",
    "\n",
    "S0 = pyf.getdata(\"../../PoissonBSS/Sources.fits\").reshape((4,128*128))\n",
    "S0 = np.dot(np.diag(1./np.linalg.norm(S0,axis=1)),S0)\n",
    "A0 = pyf.getdata(\"../../PoissonBSS/Spectra.fits\")\n",
    "A0 = A0[125:175,[0,2,3]]\n",
    "S0 = S0[[0,2,3],:]\n",
    "A0 = A0/np.maximum(0,np.linalg.norm(A0,axis=0))\n",
    "\n",
    "for r in range(3):\n",
    "    S0[r,:] = (S0[r,:] - np.min(S0[r,:]))\n",
    "    S0[r,:] = S0[r,:]/np.linalg.norm(S0[r,:])#+0.01\n",
    "    \n",
    "X0 = np.dot(A0,S0) \n",
    "N = np.random.randn(50,128*128)\n",
    "X = X0 + 1e-3*np.linalg.norm(X0)/np.linalg.norm(N)*N\n",
    "\n",
    "J=2\n",
    "n_obs = 50\n",
    "Npix=128\n",
    "Temp = X.reshape((n_obs,Npix,Npix))\n",
    "mw = ps.forward(Temp,J=J)\n",
    "Xw = np.concatenate((mw[:,:,:,0].reshape(n_obs,Npix**2),mw[:,:,:,1].reshape(n_obs,Npix**2)),axis=1)\n"
   ]
  },
  {
   "cell_type": "code",
   "execution_count": null,
   "metadata": {},
   "outputs": [],
   "source": [
    "Res = gmca.GMCA(Xw,n=3,mints=3.,nmax=250,L0=1,UseP=1,verb=0,Init=0,SCOpt=0,Kmax=1)\n",
    "print(EvalCriterion_eval(A0,S0,Res['mixmat'],S0)['ca_mean'])"
   ]
  },
  {
   "cell_type": "code",
   "execution_count": null,
   "metadata": {},
   "outputs": [],
   "source": [
    "R = np.dot(X,X.T)\n",
    "D,V = lng.eig(R)\n",
    "AInit = V[:,0:3]\n",
    "AInit = np.random.randn(50,3)\n",
    "\n",
    "c = []\n",
    "c_shuffle = []\n",
    "vbs = [4*4,8*8,16*16,32*32,64*64]\n",
    "\n",
    "for bs in vbs:\n",
    "    out,FMw,th  = dgo.Core_DGMCA(X=Xw,n=3,A=AInit,kend=1.,q_f=0.1,nmax=250,AggMeth='rFM',shufflingOpt=True,Equal=False,L0=0,verb=0,Kmax=0.5,tol=1e-6, subBlockSize=bs, SCOpt=1,alphaEstOpt=0,alpha_exp=2.)\n",
    "    c_shuffle.append(EvalCriterion_eval(A0,S0,out,S0)['ca_mean'])\n",
    "    out,FMw,th  = dgo.Core_DGMCA(X=Xw,n=3,A=AInit,kend=1.,q_f=0.1,nmax=250,AggMeth='rFM',Equal=False,L0=0,verb=0,Kmax=0.5,tol=1e-6, subBlockSize=bs, SCOpt=1,alphaEstOpt=0,alpha_exp=2.)\n",
    "    c.append(EvalCriterion_eval(A0,S0,out,S0)['ca_mean'])"
   ]
  },
  {
   "cell_type": "code",
   "execution_count": null,
   "metadata": {},
   "outputs": [],
   "source": [
    "plt.loglog(vbs,c_shuffle)\n",
    "plt.loglog(vbs,c)"
   ]
  },
  {
   "cell_type": "code",
   "execution_count": null,
   "metadata": {},
   "outputs": [],
   "source": [
    "print(np.shape(Xw))"
   ]
  },
  {
   "cell_type": "code",
   "execution_count": 1,
   "metadata": {},
   "outputs": [],
   "source": [
    "###\n",
    "###\n",
    "\n",
    "import sys\n",
    "sys.path.append(\"../src/\")\n",
    "import numpy as np\n",
    "import matplotlib.pyplot as plt\n",
    "import matplotlib\n",
    "from utils_dgmca import divisorGenerator\n",
    "from utils_dgmca import Make_Experiment_GG\n",
    "from misc_dgmca import *\n",
    "import copy as cp\n",
    "#from tqdm import tqdm\n",
    "import DGMCA_omp as dgo\n",
    "import time\n",
    "import scipy.io as sio\n",
    "from sklearn.decomposition import MiniBatchDictionaryLearning\n",
    "import GMCA as gmca"
   ]
  },
  {
   "cell_type": "code",
   "execution_count": null,
   "metadata": {},
   "outputs": [],
   "source": [
    "import scipy.io as sio\n",
    "\n",
    "critA_omp = []\n",
    "critA = []\n",
    "Time_omp = []\n",
    "Time = []\n",
    "\n",
    "totalSize = 10000\n",
    "vBS = np.array([10,25,100,1000])\n",
    "\n",
    "n_s = 5 # Number of sources\n",
    "n_obs = 20 # Number of observations        \n",
    "rho = 0.05\n",
    "Ainit = np.random.randn(n_obs,n_s)\n",
    "Ainit = Ainit/np.maximum(0,np.linalg.norm(Ainit,axis=0))\n",
    "kend = 1\n",
    "\n",
    "N_MC = 1\n",
    "nmax = 100\n",
    "\n",
    "critA = []\n",
    "critA_FMeq = []\n",
    "Time_FMeq = []\n",
    "critA_FM = []\n",
    "Time_FM = []\n",
    "critA_rFMeq = []\n",
    "Time_rFMeq = []\n",
    "critA_rFM = []\n",
    "Time_rFM = []\n",
    "critA_EUCeq = []\n",
    "Time_EUCeq = []\n",
    "critA_EUC = []\n",
    "Time_EUC = []\n",
    "critA_ODL = []\n",
    "Time_ODL = []\n",
    "\n",
    "for nmc in range(N_MC):\n",
    "\n",
    "    X,X0,A0,S0,N = Make_Experiment_GG(n_s=n_s,n_obs=n_obs,t_samp=totalSize,noise_level=40.0,dynamic=1,CondNumber=3,alpha=rho)\n",
    "    \n",
    "    for r in range(len(vBS)):\n",
    "\n",
    "        BS = vBS[r]\n",
    "                \n",
    "        R = np.dot(X,X.T)\n",
    "        D,V = lng.eig(R)\n",
    "        AInit = V[:,0:n_s]\n",
    "    \n",
    "        print(nmc,totalSize,BS)\n",
    "        \n",
    "        Res = gmca.GMCA(X,n=n_s,mints=3.,nmax=250,L0=1,UseP=1,verb=0,Init=0,SCOpt=0,Kmax=1)\n",
    "        critA.append(EvalCriterion_eval(A0,S0,Res['mixmat'],S0)['ca_mean'])\n",
    "        \n",
    "        t1 = time.time()\n",
    "        out_omp,FMw,th = dgo.Core_DGMCA(X=X,n=n_s,A=Ainit,kend=kend,AggMeth='FM',Equal=True,q_f=0.1,nmax=nmax,L0=1,verb=0,Kmax=0.5,tol=1e-6, subBlockSize=BS)\n",
    "        t2 = time.time()\n",
    "        Time_FMeq.append(t2-t1)\n",
    "        critA_FMeq.append(EvalCriterion_eval(A0,S0,out_omp,S0)['ca_mean'])\n",
    "        t1 = time.time()\n",
    "        out_omp,FMw,th = dgo.Core_DGMCA(X=X,n=n_s,A=Ainit,kend=kend,AggMeth='FM',Equal=False,q_f=0.1,nmax=nmax,L0=1,verb=0,Kmax=0.5,tol=1e-6, subBlockSize=BS)\n",
    "        t2 = time.time()\n",
    "        Time_FM.append(t2-t1)\n",
    "        critA_FM.append(EvalCriterion_eval(A0,S0,out_omp,S0)['ca_mean'])\n",
    "        t1 = time.time()\n",
    "        out_omp,FMw,th = dgo.Core_DGMCA(X=X,n=n_s,A=Ainit,kend=kend,AggMeth='rFM',Equal=True,q_f=0.1,nmax=nmax,L0=1,verb=0,Kmax=0.5,tol=1e-6, subBlockSize=BS)\n",
    "        t2 = time.time()\n",
    "        Time_rFMeq.append(t2-t1)\n",
    "        critA_rFMeq.append(EvalCriterion_eval(A0,S0,out_omp,S0)['ca_mean'])\n",
    "        t1 = time.time()\n",
    "        out_omp,FMw,th = dgo.Core_DGMCA(X=X,n=n_s,A=Ainit,kend=kend,AggMeth='rFM',Equal=False,q_f=0.1,nmax=nmax,L0=1,verb=0,Kmax=0.5,tol=1e-6, subBlockSize=BS)\n",
    "        t2 = time.time()\n",
    "        Time_rFM.append(t2-t1)\n",
    "        critA_rFM.append(EvalCriterion_eval(A0,S0,out_omp,S0)['ca_mean'])\n",
    "        t1 = time.time()\n",
    "        t1 = time.time()\n",
    "        dico = MiniBatchDictionaryLearning(n_components=n_s, alpha=0.05, n_iter=10000,batch_size=BS,fit_algorithm='cd')\n",
    "        V = dico.fit(X.T).components_        \n",
    "        t2 = time.time()\n",
    "        Time_ODL.append(t2-t1)\n",
    "        critA_ODL.append(EvalCriterion_eval(A0,S0,V.T,S0)['ca_mean'])"
   ]
  },
  {
   "cell_type": "code",
   "execution_count": null,
   "metadata": {},
   "outputs": [],
   "source": [
    "plt.semilogx(vBS,-10*np.log10(critA))\n",
    "plt.semilogx(vBS,-10*np.log10(critA_FMeq))\n",
    "plt.semilogx(vBS,-10*np.log10(critA_FM))\n",
    "plt.semilogx(vBS,-10*np.log10(critA_rFMeq))\n",
    "plt.semilogx(vBS,-10*np.log10(critA_rFM))\n",
    "plt.legend([\"GMCA\",\"FMeq\",\"FMw\",\"rFMeq\",\"rFMw\"])"
   ]
  },
  {
   "cell_type": "code",
   "execution_count": 45,
   "metadata": {},
   "outputs": [
    {
     "name": "stdout",
     "output_type": "stream",
     "text": [
      "28.214349080727605\n"
     ]
    }
   ],
   "source": [
    "n = 5\n",
    "X,X0,A0,S0,N = Make_Experiment_GG(n_s=n,n_obs=20,t_samp=10000,noise_level=40.0,dynamic=1,CondNumber=3,alpha=0.2)\n",
    "\n",
    "Res = gmca.GMCA(X,n=n,mints=3,nmax=250,L0=1,UseP=1,verb=0,Init=0,SCOpt=0,Kmax=1)\n",
    "print(-10*np.log10(EvalCriterion_eval(A0,S0,Res['mixmat'],S0)['ca_mean']))"
   ]
  },
  {
   "cell_type": "code",
   "execution_count": 44,
   "metadata": {},
   "outputs": [
    {
     "name": "stdout",
     "output_type": "stream",
     "text": [
      "31.28431375885693\n"
     ]
    }
   ],
   "source": [
    "BS=500\n",
    "nmax=1000\n",
    "R = np.dot(X,X.T)\n",
    "D,V = lng.eig(R)\n",
    "AInit = V[:,0:n]\n",
    "out_omp,FMw,th = dgo.Core_DGMCA(X=X,n=n,FullyRandom=True,A=AInit,kend=1.,alpha_exp=2,AggMeth='rFM',Equal=False,nmax=nmax,L0=1,verb=0,Kmax=0.5,tol=1e-6, subBlockSize=BS)\n",
    "print(-10*np.log10(EvalCriterion_eval(A0,S0,out_omp,S0)['ca_mean']))"
   ]
  },
  {
   "cell_type": "code",
   "execution_count": 49,
   "metadata": {},
   "outputs": [],
   "source": [
    "Res = gmca.GMCA(X,n=n,mints=3,nmax=250,L0=1,UseP=1,verb=0,Init=0,SCOpt=0,Kmax=1)\n",
    "cc = (-10*np.log10(EvalCriterion_eval(A0,S0,Res['mixmat'],S0)['ca_mean']))\n",
    "\n",
    "c = []\n",
    "vbs = np.array([5,10,25,50,100,250,500,1000,5000])\n",
    "nmax= 100\n",
    "for bs in vbs:\n",
    "    out_omp,FMw,th = dgo.Core_DGMCA(X=X,n=n,FullyRandom=True,A=AInit,kend=1.,alpha_exp=2,AggMeth='rFM',Equal=False,nmax=nmax,L0=1,verb=0,Kmax=0.5,tol=1e-6, subBlockSize=bs)\n",
    "    c.append(-10*np.log10(EvalCriterion_eval(A0,S0,out_omp,S0)['ca_mean']))"
   ]
  },
  {
   "cell_type": "code",
   "execution_count": 48,
   "metadata": {},
   "outputs": [
    {
     "data": {
      "text/plain": [
       "[<matplotlib.lines.Line2D at 0x11e5b4f98>]"
      ]
     },
     "execution_count": 48,
     "metadata": {},
     "output_type": "execute_result"
    },
    {
     "data": {
      "image/png": "[encoded data removed]",
      "text/plain": [
       "<Figure size 432x288 with 1 Axes>"
      ]
     },
     "metadata": {
      "needs_background": "light"
     },
     "output_type": "display_data"
    }
   ],
   "source": [
    "plt.semilogx(vbs,c)\n",
    "plt.semilogx(vbs,cc*np.ones_like(c))"
   ]
  },
  {
   "cell_type": "code",
   "execution_count": 64,
   "metadata": {},
   "outputs": [
    {
     "name": "stdout",
     "output_type": "stream",
     "text": [
      "29.622546812847435\n"
     ]
    }
   ],
   "source": [
    "n = 5\n",
    "X,X0,A0,S0,N = Make_Experiment_GG(n_s=n,n_obs=20,t_samp=10000,noise_level=40.0,dynamic=1,CondNumber=5,alpha=0.2)\n",
    "\n",
    "Res = gmca.GMCA(X,n=n,mints=1,nmax=250,L0=1,UseP=1,verb=0,Init=0,SCOpt=0,Kmax=1)\n",
    "print(-10*np.log10(EvalCriterion_eval(A0,S0,Res['mixmat'],S0)['ca_mean']))"
   ]
  },
  {
   "cell_type": "code",
   "execution_count": 65,
   "metadata": {},
   "outputs": [],
   "source": [
    "Res = gmca.GMCA(X,n=n,mints=3,nmax=250,L0=1,UseP=1,verb=0,Init=0,SCOpt=0,Kmax=1)\n",
    "cc = (-10*np.log10(EvalCriterion_eval(A0,S0,Res['mixmat'],S0)['ca_mean']))\n",
    "\n",
    "c = []\n",
    "vbs = np.array([5,10,25,50,100,250,500,1000,5000])\n",
    "nmax= 1000\n",
    "for bs in vbs:\n",
    "    out_omp,FMw,th = dgo.Core_DGMCA(X=X,n=n,FullyRandom=True,A=AInit,kend=1.,alpha_exp=2,AggMeth='rFM',Equal=False,nmax=nmax,L0=1,verb=0,Kmax=0.5,tol=1e-6, subBlockSize=bs)\n",
    "    c.append(-10*np.log10(EvalCriterion_eval(A0,S0,out_omp,S0)['ca_mean']))"
   ]
  },
  {
   "cell_type": "code",
   "execution_count": 66,
   "metadata": {},
   "outputs": [
    {
     "data": {
      "text/plain": [
       "[<matplotlib.lines.Line2D at 0x11ec91a20>]"
      ]
     },
     "execution_count": 66,
     "metadata": {},
     "output_type": "execute_result"
    },
    {
     "data": {
      "image/png": "[encoded data removed]",
      "text/plain": [
       "<Figure size 432x288 with 1 Axes>"
      ]
     },
     "metadata": {
      "needs_background": "light"
     },
     "output_type": "display_data"
    }
   ],
   "source": [
    "plt.semilogx(vbs,c)\n",
    "plt.semilogx(vbs,cc*np.ones_like(c))"
   ]
  },
  {
   "cell_type": "code",
   "execution_count": 101,
   "metadata": {},
   "outputs": [],
   "source": [
    "import scipy.io as sio\n",
    "\n",
    "c = []\n",
    "cc = []\n",
    "\n",
    "vbs = np.array([5,10,20,50,100,250,500,1000,5000])\n",
    "nmax= 1000\n",
    "\n",
    "n = 5\n",
    "\n",
    "NMC = 5\n",
    "\n",
    "for nmc in range(NMC):\n",
    "    \n",
    "    X,X0,A0,S0,N = Make_Experiment_GG(n_s=n,n_obs=20,t_samp=10000,noise_level=40.0,dynamic=1,CondNumber=3,alpha=0.5)\n",
    "\n",
    "    R = np.dot(X,X.T)\n",
    "    D,V = lng.eig(R)\n",
    "    AInit = V[:,0:n]\n",
    "\n",
    "    Res = gmca.GMCA(X,n=n,mints=1,nmax=250,L0=1,UseP=1,verb=0,Init=0,SCOpt=0,Kmax=1)\n",
    "    \n",
    "    for bs in vbs:\n",
    "\n",
    "        cc.append(-10*np.log10(EvalCriterion_eval(A0,S0,Res['mixmat'],S0)['ca_mean']))\n",
    "\n",
    "        out_omp,FMw,th = dgo.Core_DGMCA(X=X,n=n,FullyRandom=True,A=AInit,kend=1.,alpha_exp=2,AggMeth='rFM',Equal=False,nmax=nmax,L0=1,verb=0,Kmax=0.5,tol=1e-6, subBlockSize=bs)\n",
    "        c.append(-10*np.log10(EvalCriterion_eval(A0,S0,out_omp,S0)['ca_mean']))\n",
    "        \n",
    "        sio.savemat('TEST_rho05.mat',mdict={'vbs':vbs,'g':cc,'dg':c})\n",
    "        \n",
    "c = []\n",
    "cc = []\n",
    "        \n",
    "for nmc in range(NMC):\n",
    "    \n",
    "    X,X0,A0,S0,N = Make_Experiment_GG(n_s=n,n_obs=20,t_samp=10000,noise_level=40.0,dynamic=1,CondNumber=3,alpha=0.25)\n",
    "\n",
    "    R = np.dot(X,X.T)\n",
    "    D,V = lng.eig(R)\n",
    "    AInit = V[:,0:n]\n",
    "\n",
    "    Res = gmca.GMCA(X,n=n,mints=1,nmax=250,L0=1,UseP=1,verb=0,Init=0,SCOpt=0,Kmax=1)\n",
    "    \n",
    "    for bs in vbs:\n",
    "\n",
    "        cc.append(-10*np.log10(EvalCriterion_eval(A0,S0,Res['mixmat'],S0)['ca_mean']))\n",
    "\n",
    "        out_omp,FMw,th = dgo.Core_DGMCA(X=X,n=n,FullyRandom=True,A=AInit,kend=1.,alpha_exp=2,AggMeth='rFM',Equal=False,nmax=nmax,L0=1,verb=0,Kmax=0.5,tol=1e-6, subBlockSize=bs)\n",
    "        c.append(-10*np.log10(EvalCriterion_eval(A0,S0,out_omp,S0)['ca_mean']))\n",
    "        \n",
    "        sio.savemat('TEST_rho025.mat',mdict={'vbs':vbs,'g':cc,'dg':c})\n",
    "\n",
    "c = []\n",
    "cc = []\n",
    "\n",
    "for nmc in range(NMC):\n",
    "    \n",
    "    X,X0,A0,S0,N = Make_Experiment_GG(n_s=n,n_obs=20,t_samp=10000,noise_level=40.0,dynamic=1,CondNumber=3,alpha=0.1)\n",
    "\n",
    "    R = np.dot(X,X.T)\n",
    "    D,V = lng.eig(R)\n",
    "    AInit = V[:,0:n]\n",
    "\n",
    "    Res = gmca.GMCA(X,n=n,mints=1,nmax=250,L0=1,UseP=1,verb=0,Init=0,SCOpt=0,Kmax=1)\n",
    "    \n",
    "    for bs in vbs:\n",
    "\n",
    "        cc.append(-10*np.log10(EvalCriterion_eval(A0,S0,Res['mixmat'],S0)['ca_mean']))\n",
    "\n",
    "        out_omp,FMw,th = dgo.Core_DGMCA(X=X,n=n,FullyRandom=True,A=AInit,kend=1.,alpha_exp=2,AggMeth='rFM',Equal=False,nmax=nmax,L0=1,verb=0,Kmax=0.5,tol=1e-6, subBlockSize=bs)\n",
    "        c.append(-10*np.log10(EvalCriterion_eval(A0,S0,out_omp,S0)['ca_mean']))\n",
    "        \n",
    "        sio.savemat('TEST_rho01.mat',mdict={'vbs':vbs,'g':cc,'dg':c})"
   ]
  },
  {
   "cell_type": "code",
   "execution_count": 99,
   "metadata": {},
   "outputs": [
    {
     "name": "stdout",
     "output_type": "stream",
     "text": [
      "(9,)\n"
     ]
    }
   ],
   "source": [
    "g = np.mean(np.reshape(cc,(NMC,-1)),axis=0)\n",
    "dg = np.mean(np.reshape(c,(NMC,-1)),axis=0)\n",
    "print(np.shape(g))"
   ]
  },
  {
   "cell_type": "code",
   "execution_count": 100,
   "metadata": {},
   "outputs": [
    {
     "data": {
      "text/plain": [
       "[<matplotlib.lines.Line2D at 0x122e2a0f0>]"
      ]
     },
     "execution_count": 100,
     "metadata": {},
     "output_type": "execute_result"
    },
    {
     "data": {
      "image/png": "[encoded data removed]",
      "text/plain": [
       "<Figure size 432x288 with 1 Axes>"
      ]
     },
     "metadata": {
      "needs_background": "light"
     },
     "output_type": "display_data"
    }
   ],
   "source": [
    "plt.semilogx(vbs,dg)\n",
    "plt.semilogx(vbs,g)"
   ]
  },
  {
   "cell_type": "code",
   "execution_count": null,
   "metadata": {},
   "outputs": [],
   "source": []
  }
 ],
 "metadata": {
  "kernelspec": {
   "display_name": "Python 3",
   "language": "python",
   "name": "python3"
  },
  "language_info": {
   "codemirror_mode": {
    "name": "ipython",
    "version": 3
   },
   "file_extension": ".py",
   "mimetype": "text/x-python",
   "name": "python",
   "nbconvert_exporter": "python",
   "pygments_lexer": "ipython3",
   "version": "3.6.7"
  }
 },
 "nbformat": 4,
 "nbformat_minor": 2
}
